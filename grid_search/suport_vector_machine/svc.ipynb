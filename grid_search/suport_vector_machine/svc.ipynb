{
 "cells": [
  {
   "cell_type": "code",
   "execution_count": null,
   "id": "4c1a463c",
   "metadata": {
    "executionInfo": {
     "elapsed": 1127,
     "status": "ok",
     "timestamp": 1643567153964,
     "user": {
      "displayName": "Rodrigo Tornisiello",
      "photoUrl": "https://lh3.googleusercontent.com/a/default-user=s64",
      "userId": "01548402874315711419"
     },
     "user_tz": 180
    },
    "id": "4c1a463c"
   },
   "outputs": [],
   "source": [
    "import pandas as pd\n",
    "import numpy as np\n",
    "import matplotlib.pyplot as plt\n",
    "from sklearn.preprocessing import StandardScaler\n",
    "from sklearn.model_selection import GridSearchCV\n",
    "from sklearn.svm import SVC\n",
    "\n",
    "import os\n",
    "import sys\n",
    "sys.path.append(os.path.join(\n",
    "  os.path.abspath(''), '..', '..')\n",
    ")\n",
    "\n",
    "from src.preprocess import Preprocess\n",
    "\n",
    "import warnings\n",
    "warnings.filterwarnings('ignore')"
   ]
  },
  {
   "cell_type": "code",
   "execution_count": null,
   "id": "9e173edd",
   "metadata": {
    "colab": {
     "base_uri": "https://localhost:8080/",
     "height": 17
    },
    "executionInfo": {
     "elapsed": 3624,
     "status": "ok",
     "timestamp": 1643567346429,
     "user": {
      "displayName": "Rodrigo Tornisiello",
      "photoUrl": "https://lh3.googleusercontent.com/a/default-user=s64",
      "userId": "01548402874315711419"
     },
     "user_tz": 180
    },
    "id": "9e173edd",
    "outputId": "b4a34b88-73ae-4a00-9507-9714c46989c2",
    "tags": []
   },
   "outputs": [],
   "source": [
    "x_train: pd.DataFrame = pd.read_csv(\n",
    "  '../../data/train.csv', index_col=0)\n",
    "x_test: pd.DataFrame = pd.read_csv(\n",
    "  '../../data/test.csv', index_col=0)\n",
    "y_train: pd.Series = x_train['Survived']\n",
    "\n",
    "x_train, x_test = Preprocess(scaler=StandardScaler()) \\\n",
    "  .apply(x_train, x_test)\n",
    "params = {\n",
    "  'kernel': ['linear', 'poly', 'rbf', 'sigmoid'],\n",
    "}\n",
    "\n",
    "base_svc = SVC(random_state=3)\n",
    "svc = GridSearchCV(\n",
    "  base_svc,\n",
    "  params,\n",
    "  scoring='balanced_accuracy',\n",
    "  n_jobs=-1,\n",
    "  cv=5,\n",
    "  return_train_score=True,\n",
    ")\n",
    "svc.fit(x_train, y_train)\n",
    "\n",
    "results = pd.DataFrame(svc.cv_results_)\n",
    "results = results[[\n",
    "  'param_kernel','mean_test_score',\n",
    "  'rank_test_score', 'mean_train_score'\n",
    "]]\n",
    "results.to_csv('svc_results.csv', index=False)"
   ]
  },
  {
   "cell_type": "code",
   "execution_count": null,
   "id": "a7ba090f",
   "metadata": {
    "colab": {
     "base_uri": "https://localhost:8080/",
     "height": 295
    },
    "executionInfo": {
     "elapsed": 811,
     "status": "ok",
     "timestamp": 1643567351107,
     "user": {
      "displayName": "Rodrigo Tornisiello",
      "photoUrl": "https://lh3.googleusercontent.com/a/default-user=s64",
      "userId": "01548402874315711419"
     },
     "user_tz": 180
    },
    "id": "a7ba090f",
    "outputId": "e82da8ec-bc90-43c1-a165-be759c555c4f"
   },
   "outputs": [],
   "source": [
    "plt.plot(results['param_kernel'],\n",
    "     results['mean_test_score'], label='test')\n",
    "plt.plot(results['param_kernel'],\n",
    "     results['mean_train_score'], label='train')\n",
    "\n",
    "plt.xlabel('Kernel')\n",
    "plt.ylabel('Balanced Accuracy')\n",
    "plt.title('Kernel Analysis')\n",
    "plt.legend()\n",
    "plt.savefig('kernel.svg', format='svg')"
   ]
  },
  {
   "cell_type": "code",
   "execution_count": null,
   "id": "6cefcb0b-266d-4456-80fa-47a6e6d1aac6",
   "metadata": {},
   "outputs": [],
   "source": [
    "predictions = pd.DataFrame(svc.predict(x_test))\n",
    "predictions.to_csv('svc_predictions.csv', index=False)"
   ]
  }
 ],
 "metadata": {
  "colab": {
   "collapsed_sections": [],
   "name": "grid_search_svc.ipynb",
   "provenance": [
    {
     "file_id": "1rjLUCV6TShJ-UTC10aXHGkgnB59RbFq3",
     "timestamp": 1643566434694
    },
    {
     "file_id": "1vDm68Oaz_0i1o9df8TK3r_QVfnu0B0KY",
     "timestamp": 1643565768678
    },
    {
     "file_id": "https://github.com/rodrigotorn/kaggle-titanic-classification/blob/main/rf/random_forest.ipynb",
     "timestamp": 1643564404883
    }
   ]
  },
  "kernelspec": {
   "display_name": "Python 3 (ipykernel)",
   "language": "python",
   "name": "python3"
  },
  "language_info": {
   "codemirror_mode": {
    "name": "ipython",
    "version": 3
   },
   "file_extension": ".py",
   "mimetype": "text/x-python",
   "name": "python",
   "nbconvert_exporter": "python",
   "pygments_lexer": "ipython3",
   "version": "3.8.10"
  }
 },
 "nbformat": 4,
 "nbformat_minor": 5
}
