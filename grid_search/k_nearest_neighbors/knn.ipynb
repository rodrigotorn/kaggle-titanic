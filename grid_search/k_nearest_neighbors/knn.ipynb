{
 "cells": [
  {
   "cell_type": "code",
   "execution_count": null,
   "id": "4c1a463c",
   "metadata": {
    "executionInfo": {
     "elapsed": 736,
     "status": "ok",
     "timestamp": 1643566052325,
     "user": {
      "displayName": "Rodrigo Tornisiello",
      "photoUrl": "https://lh3.googleusercontent.com/a/default-user=s64",
      "userId": "01548402874315711419"
     },
     "user_tz": 180
    },
    "id": "4c1a463c"
   },
   "outputs": [],
   "source": [
    "import pandas as pd\n",
    "import numpy as np\n",
    "import matplotlib.pyplot as plt\n",
    "from sklearn.preprocessing import StandardScaler\n",
    "from sklearn.model_selection import GridSearchCV\n",
    "from sklearn.neighbors import KNeighborsClassifier\n",
    "\n",
    "import os\n",
    "import sys\n",
    "sys.path.append(os.path.join(\n",
    "  os.path.abspath(''), '..', '..')\n",
    ")\n",
    "\n",
    "from src.preprocess import Preprocess\n",
    "\n",
    "import warnings\n",
    "warnings.filterwarnings('ignore')"
   ]
  },
  {
   "cell_type": "code",
   "execution_count": null,
   "id": "9e173edd",
   "metadata": {
    "colab": {
     "base_uri": "https://localhost:8080/",
     "height": 17
    },
    "executionInfo": {
     "elapsed": 2135,
     "status": "ok",
     "timestamp": 1643566355782,
     "user": {
      "displayName": "Rodrigo Tornisiello",
      "photoUrl": "https://lh3.googleusercontent.com/a/default-user=s64",
      "userId": "01548402874315711419"
     },
     "user_tz": 180
    },
    "id": "9e173edd",
    "outputId": "12b07d27-29dd-4f75-d6bb-6665dbb6e64e",
    "tags": []
   },
   "outputs": [],
   "source": [
    "x_train: pd.DataFrame = pd.read_csv(\n",
    "  '../../data/train.csv', index_col=0)\n",
    "x_test: pd.DataFrame = pd.read_csv(\n",
    "  '../../data/test.csv', index_col=0)\n",
    "y_train: pd.Series = x_train['Survived']\n",
    "\n",
    "x_train, x_test = Preprocess(scaler=StandardScaler()) \\\n",
    "  .apply(x_train, x_test)\n",
    "\n",
    "params = {\n",
    "  'n_neighbors': [i for i in range(1, 21, 2)],\n",
    "}\n",
    "\n",
    "base_knn = KNeighborsClassifier()\n",
    "knn = GridSearchCV(\n",
    "  base_knn,\n",
    "  params,\n",
    "  scoring='balanced_accuracy',\n",
    "  n_jobs=-1,\n",
    "  cv=5,\n",
    "  return_train_score=True,\n",
    ")\n",
    "knn.fit(x_train, y_train)\n",
    "\n",
    "results = pd.DataFrame(knn.cv_results_)\n",
    "results = results[[\n",
    "  'param_n_neighbors','mean_test_score',\n",
    "  'rank_test_score', 'mean_train_score'\n",
    "]]\n",
    "results.to_csv('knn_results.csv', index=False)"
   ]
  },
  {
   "cell_type": "code",
   "execution_count": null,
   "id": "a7ba090f",
   "metadata": {
    "colab": {
     "base_uri": "https://localhost:8080/",
     "height": 295
    },
    "executionInfo": {
     "elapsed": 818,
     "status": "ok",
     "timestamp": 1643566359517,
     "user": {
      "displayName": "Rodrigo Tornisiello",
      "photoUrl": "https://lh3.googleusercontent.com/a/default-user=s64",
      "userId": "01548402874315711419"
     },
     "user_tz": 180
    },
    "id": "a7ba090f",
    "outputId": "2a0e3583-7544-41c0-b2b8-46855d7403a7"
   },
   "outputs": [],
   "source": [
    "plt.plot(results['param_n_neighbors'],\n",
    "  results['mean_test_score'], label='test')\n",
    "plt.plot(results['param_n_neighbors'],\n",
    "  results['mean_train_score'], label='train')\n",
    "\n",
    "plt.xlabel('Neighbors')\n",
    "plt.ylabel('Balanced Accuracy')\n",
    "plt.title('Neighbors Overfit Analysis')\n",
    "plt.legend()\n",
    "plt.savefig('neighbors.svg', format='svg')"
   ]
  }
 ],
 "metadata": {
  "colab": {
   "collapsed_sections": [],
   "name": "grid_search_knn.ipynb",
   "provenance": [
    {
     "file_id": "1vDm68Oaz_0i1o9df8TK3r_QVfnu0B0KY",
     "timestamp": 1643565768678
    },
    {
     "file_id": "https://github.com/rodrigotorn/kaggle-titanic-classification/blob/main/rf/random_forest.ipynb",
     "timestamp": 1643564404883
    }
   ]
  },
  "kernelspec": {
   "display_name": "Python 3 (ipykernel)",
   "language": "python",
   "name": "python3"
  },
  "language_info": {
   "codemirror_mode": {
    "name": "ipython",
    "version": 3
   },
   "file_extension": ".py",
   "mimetype": "text/x-python",
   "name": "python",
   "nbconvert_exporter": "python",
   "pygments_lexer": "ipython3",
   "version": "3.8.10"
  }
 },
 "nbformat": 4,
 "nbformat_minor": 5
}
