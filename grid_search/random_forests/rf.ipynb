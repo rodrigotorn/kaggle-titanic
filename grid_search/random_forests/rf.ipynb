{
 "cells": [
  {
   "cell_type": "code",
   "execution_count": null,
   "id": "4c1a463c",
   "metadata": {
    "id": "4c1a463c"
   },
   "outputs": [],
   "source": [
    "import pandas as pd\n",
    "import numpy as np\n",
    "import matplotlib.pyplot as plt\n",
    "from sklearn.preprocessing import StandardScaler\n",
    "from sklearn.model_selection import GridSearchCV\n",
    "from sklearn.ensemble import RandomForestClassifier\n",
    "\n",
    "import os\n",
    "import sys\n",
    "sys.path.append(os.path.join(\n",
    "  os.path.abspath(''), '..', '..')\n",
    ")\n",
    "\n",
    "from src.preprocess import Preprocess\n",
    "\n",
    "import warnings\n",
    "warnings.filterwarnings('ignore')"
   ]
  },
  {
   "cell_type": "code",
   "execution_count": null,
   "id": "9e173edd",
   "metadata": {
    "colab": {
     "base_uri": "https://localhost:8080/",
     "height": 17
    },
    "id": "9e173edd",
    "outputId": "4ce65b57-f2d3-4e04-d4b4-4548967f5dda",
    "tags": []
   },
   "outputs": [],
   "source": [
    "x_train: pd.DataFrame = pd.read_csv(\n",
    "  '../../data/train.csv', index_col=0)\n",
    "x_test: pd.DataFrame = pd.read_csv(\n",
    "  '../../data/test.csv', index_col=0)\n",
    "y_train: pd.Series = x_train['Survived']\n",
    "\n",
    "x_train, x_test = Preprocess(scaler=StandardScaler()) \\\n",
    "  .apply(x_train, x_test)\n",
    "\n",
    "params = {\n",
    "  'max_depth': [i for i in range(1, 10)],\n",
    "}\n",
    "\n",
    "base_rf = RandomForestClassifier(random_state=3)\n",
    "rf = GridSearchCV(\n",
    "  base_rf,\n",
    "  params,\n",
    "  scoring='balanced_accuracy',\n",
    "  n_jobs=-1,\n",
    "  cv=5,\n",
    "  return_train_score=True,\n",
    ")\n",
    "rf.fit(x_train, y_train)\n",
    "\n",
    "results = pd.DataFrame(rf.cv_results_)\n",
    "results = results[[\n",
    "  'param_max_depth','mean_test_score',\n",
    "  'rank_test_score', 'mean_train_score'\n",
    "]]\n",
    "results.to_csv('rf_results.csv', index=False)"
   ]
  },
  {
   "cell_type": "code",
   "execution_count": null,
   "id": "a7ba090f",
   "metadata": {
    "colab": {
     "base_uri": "https://localhost:8080/",
     "height": 295
    },
    "id": "a7ba090f",
    "outputId": "98022475-433a-4e19-9759-06c8c89cef22",
    "tags": []
   },
   "outputs": [],
   "source": [
    "plt.plot(results['param_max_depth'],\n",
    "  results['mean_test_score'], label='test')\n",
    "plt.plot(results['param_max_depth'],\n",
    "  results['mean_train_score'], label='train')\n",
    "\n",
    "plt.xlabel('Max Depth')\n",
    "plt.ylabel('Balanced Accuracy')\n",
    "plt.title('Max Depth Overfit Analysis')\n",
    "plt.legend()\n",
    "plt.savefig('depth.svg', format='svg')"
   ]
  }
 ],
 "metadata": {
  "colab": {
   "collapsed_sections": [],
   "name": "Copy of random_forest.ipynb",
   "provenance": []
  },
  "kernelspec": {
   "display_name": "Python 3 (ipykernel)",
   "language": "python",
   "name": "python3"
  },
  "language_info": {
   "codemirror_mode": {
    "name": "ipython",
    "version": 3
   },
   "file_extension": ".py",
   "mimetype": "text/x-python",
   "name": "python",
   "nbconvert_exporter": "python",
   "pygments_lexer": "ipython3",
   "version": "3.8.10"
  }
 },
 "nbformat": 4,
 "nbformat_minor": 5
}
