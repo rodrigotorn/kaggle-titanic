{
 "cells": [
  {
   "cell_type": "code",
   "execution_count": null,
   "id": "4c1a463c",
   "metadata": {
    "executionInfo": {
     "elapsed": 1106,
     "status": "ok",
     "timestamp": 1643567692577,
     "user": {
      "displayName": "Rodrigo Tornisiello",
      "photoUrl": "https://lh3.googleusercontent.com/a/default-user=s64",
      "userId": "01548402874315711419"
     },
     "user_tz": 180
    },
    "id": "4c1a463c"
   },
   "outputs": [],
   "source": [
    "import pandas as pd\n",
    "import numpy as np\n",
    "import matplotlib.pyplot as plt\n",
    "from sklearn.preprocessing import StandardScaler\n",
    "from sklearn.model_selection import GridSearchCV\n",
    "from sklearn.ensemble import AdaBoostClassifier\n",
    "\n",
    "import os\n",
    "import sys\n",
    "sys.path.append(os.path.join(\n",
    "  os.path.abspath(''), '..', '..')\n",
    ")\n",
    "\n",
    "from src.preprocess import Preprocess\n",
    "\n",
    "import warnings\n",
    "warnings.filterwarnings('ignore')"
   ]
  },
  {
   "cell_type": "code",
   "execution_count": null,
   "id": "9e173edd",
   "metadata": {
    "colab": {
     "base_uri": "https://localhost:8080/",
     "height": 17
    },
    "executionInfo": {
     "elapsed": 2613,
     "status": "ok",
     "timestamp": 1643567769823,
     "user": {
      "displayName": "Rodrigo Tornisiello",
      "photoUrl": "https://lh3.googleusercontent.com/a/default-user=s64",
      "userId": "01548402874315711419"
     },
     "user_tz": 180
    },
    "id": "9e173edd",
    "outputId": "4e4daafd-d68e-49a0-dc96-f4f419d1036c",
    "tags": []
   },
   "outputs": [],
   "source": [
    "x_train: pd.DataFrame = pd.read_csv(\n",
    "  '../../data/train.csv', index_col=0)\n",
    "x_test: pd.DataFrame = pd.read_csv(\n",
    "  '../../data/test.csv', index_col=0)\n",
    "y_train: pd.Series = x_train['Survived']\n",
    "\n",
    "x_train, x_test = Preprocess(scaler=StandardScaler()) \\\n",
    "  .apply(x_train, x_test)\n",
    "\n",
    "params = {\n",
    "  'n_estimators': [i for i in range(1, 16)],\n",
    "}\n",
    "\n",
    "base_boost = AdaBoostClassifier(random_state=3)\n",
    "boost = GridSearchCV(\n",
    "  base_boost,\n",
    "  params,\n",
    "  scoring='balanced_accuracy',\n",
    "  n_jobs=-1,\n",
    "  cv=5,\n",
    "  return_train_score=True,\n",
    ")\n",
    "boost.fit(x_train, y_train)\n",
    "\n",
    "results = pd.DataFrame(boost.cv_results_)\n",
    "results = results[[\n",
    "  'param_n_estimators','mean_test_score',\n",
    "  'rank_test_score', 'mean_train_score'\n",
    "]]\n",
    "results.to_csv('boost_results.csv', index=False)"
   ]
  },
  {
   "cell_type": "code",
   "execution_count": null,
   "id": "a7ba090f",
   "metadata": {
    "colab": {
     "base_uri": "https://localhost:8080/",
     "height": 295
    },
    "executionInfo": {
     "elapsed": 388,
     "status": "ok",
     "timestamp": 1643567772099,
     "user": {
      "displayName": "Rodrigo Tornisiello",
      "photoUrl": "https://lh3.googleusercontent.com/a/default-user=s64",
      "userId": "01548402874315711419"
     },
     "user_tz": 180
    },
    "id": "a7ba090f",
    "outputId": "14386bb4-9352-4150-af1c-cc28c9177c93"
   },
   "outputs": [],
   "source": [
    "plt.plot(results['param_n_estimators'],\n",
    "  results['mean_test_score'], label='test')\n",
    "plt.plot(results['param_n_estimators'],\n",
    "  results['mean_train_score'], label='train')\n",
    "\n",
    "plt.xlabel('Estimators')\n",
    "plt.ylabel('Balanced Accuracy')\n",
    "plt.title('Estimators Overfit Analysis')\n",
    "plt.legend()\n",
    "plt.savefig('estimators.svg', format='svg')"
   ]
  }
 ],
 "metadata": {
  "colab": {
   "collapsed_sections": [],
   "name": "grid_search_adaboost.ipynb",
   "provenance": [
    {
     "file_id": "1nD0wAzd-cUfR6RrDRwDySOSCE17Y8hiE",
     "timestamp": 1643567446916
    },
    {
     "file_id": "1rjLUCV6TShJ-UTC10aXHGkgnB59RbFq3",
     "timestamp": 1643566434694
    },
    {
     "file_id": "1vDm68Oaz_0i1o9df8TK3r_QVfnu0B0KY",
     "timestamp": 1643565768678
    },
    {
     "file_id": "https://github.com/rodrigotorn/kaggle-titanic-classification/blob/main/rf/random_forest.ipynb",
     "timestamp": 1643564404883
    }
   ]
  },
  "kernelspec": {
   "display_name": "Python 3 (ipykernel)",
   "language": "python",
   "name": "python3"
  },
  "language_info": {
   "codemirror_mode": {
    "name": "ipython",
    "version": 3
   },
   "file_extension": ".py",
   "mimetype": "text/x-python",
   "name": "python",
   "nbconvert_exporter": "python",
   "pygments_lexer": "ipython3",
   "version": "3.8.10"
  }
 },
 "nbformat": 4,
 "nbformat_minor": 5
}
