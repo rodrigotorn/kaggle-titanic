{
 "cells": [
  {
   "cell_type": "code",
   "execution_count": null,
   "id": "4c1a463c",
   "metadata": {
    "executionInfo": {
     "elapsed": 973,
     "status": "ok",
     "timestamp": 1643564853577,
     "user": {
      "displayName": "Rodrigo Tornisiello",
      "photoUrl": "https://lh3.googleusercontent.com/a/default-user=s64",
      "userId": "01548402874315711419"
     },
     "user_tz": 180
    },
    "id": "4c1a463c"
   },
   "outputs": [],
   "source": [
    "import pandas as pd\n",
    "import numpy as np\n",
    "import matplotlib.pyplot as plt\n",
    "from sklearn.preprocessing import StandardScaler\n",
    "from sklearn.model_selection import GridSearchCV\n",
    "from sklearn.neural_network import MLPClassifier\n",
    "\n",
    "import os\n",
    "import sys\n",
    "sys.path.append(os.path.join(\n",
    "  os.path.abspath(''), '..', '..')\n",
    ")\n",
    "\n",
    "from src.preprocess import Preprocess\n",
    "\n",
    "import warnings\n",
    "warnings.filterwarnings('ignore')"
   ]
  },
  {
   "cell_type": "code",
   "execution_count": null,
   "id": "9e173edd",
   "metadata": {
    "colab": {
     "base_uri": "https://localhost:8080/",
     "height": 17
    },
    "executionInfo": {
     "elapsed": 30692,
     "status": "ok",
     "timestamp": 1643565459357,
     "user": {
      "displayName": "Rodrigo Tornisiello",
      "photoUrl": "https://lh3.googleusercontent.com/a/default-user=s64",
      "userId": "01548402874315711419"
     },
     "user_tz": 180
    },
    "id": "9e173edd",
    "outputId": "2cb45b8a-9274-4328-aa1a-643e38527613",
    "tags": []
   },
   "outputs": [],
   "source": [
    "x_train: pd.DataFrame = pd.read_csv(\n",
    "  '../../data/train.csv', index_col=0)\n",
    "x_test: pd.DataFrame = pd.read_csv(\n",
    "  '../../data/test.csv', index_col=0)\n",
    "y_train: pd.Series = x_train['Survived']\n",
    "\n",
    "x_train, x_test = Preprocess(scaler=StandardScaler()) \\\n",
    "  .apply(x_train, x_test)\n",
    "\n",
    "params = {\n",
    "  'hidden_layer_sizes': [(i,) for i in range(1, 15)],\n",
    "}\n",
    "\n",
    "base_mlp = MLPClassifier(random_state=3, max_iter=400)\n",
    "mlp = GridSearchCV(\n",
    "  base_mlp,\n",
    "  params,\n",
    "  scoring='balanced_accuracy',\n",
    "  n_jobs=-1,\n",
    "  cv=5,\n",
    "  return_train_score=True,\n",
    ")\n",
    "mlp.fit(x_train, y_train)\n",
    "\n",
    "results = pd.DataFrame(mlp.cv_results_)\n",
    "results = results[[\n",
    "  'param_hidden_layer_sizes','mean_test_score',\n",
    "  'rank_test_score', 'mean_train_score'\n",
    "]]\n",
    "results.to_csv('mlp_results.csv', index=False)"
   ]
  },
  {
   "cell_type": "code",
   "execution_count": null,
   "id": "a7ba090f",
   "metadata": {
    "colab": {
     "base_uri": "https://localhost:8080/",
     "height": 295
    },
    "executionInfo": {
     "elapsed": 539,
     "status": "ok",
     "timestamp": 1643565467223,
     "user": {
      "displayName": "Rodrigo Tornisiello",
      "photoUrl": "https://lh3.googleusercontent.com/a/default-user=s64",
      "userId": "01548402874315711419"
     },
     "user_tz": 180
    },
    "id": "a7ba090f",
    "outputId": "fb2f16cc-d5ab-4a6a-c929-4ade3746792a"
   },
   "outputs": [],
   "source": [
    "plt.plot(results['param_hidden_layer_sizes'].astype('str'),\n",
    "  results['mean_test_score'], label='test')\n",
    "plt.plot(results['param_hidden_layer_sizes'].astype('str'),\n",
    "  results['mean_train_score'], label='train')\n",
    "\n",
    "plt.xlabel('Hidden Layers')\n",
    "plt.ylabel('Balanced Accuracy')\n",
    "plt.title('Hidden Layers Overfit Analysis')\n",
    "plt.legend()\n",
    "plt.savefig('layers.svg', format='svg')"
   ]
  }
 ],
 "metadata": {
  "colab": {
   "collapsed_sections": [],
   "name": "grid_search_mlp.ipynb",
   "provenance": [
    {
     "file_id": "https://github.com/rodrigotorn/kaggle-titanic-classification/blob/main/rf/random_forest.ipynb",
     "timestamp": 1643564404883
    }
   ]
  },
  "kernelspec": {
   "display_name": "Python 3 (ipykernel)",
   "language": "python",
   "name": "python3"
  },
  "language_info": {
   "codemirror_mode": {
    "name": "ipython",
    "version": 3
   },
   "file_extension": ".py",
   "mimetype": "text/x-python",
   "name": "python",
   "nbconvert_exporter": "python",
   "pygments_lexer": "ipython3",
   "version": "3.8.10"
  }
 },
 "nbformat": 4,
 "nbformat_minor": 5
}
