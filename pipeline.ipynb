{
 "cells": [
  {
   "cell_type": "code",
   "execution_count": null,
   "id": "73e77858",
   "metadata": {},
   "outputs": [],
   "source": [
    "%load_ext autoreload\n",
    "%autoreload 1"
   ]
  },
  {
   "cell_type": "code",
   "execution_count": null,
   "id": "870bf68e",
   "metadata": {},
   "outputs": [],
   "source": [
    "import pandas as pd\n",
    "import numpy as np\n",
    "from sklearn.preprocessing import StandardScaler\n",
    "from src.preprocess import Preprocess\n",
    "from src.models.mlp import MLP\n",
    "from src.models.knn import KNN\n",
    "from src.models.rf import RF"
   ]
  },
  {
   "cell_type": "code",
   "execution_count": null,
   "id": "2edb77bb",
   "metadata": {
    "tags": []
   },
   "outputs": [],
   "source": [
    "raw_train_df: pd.DataFrame = pd.read_csv('data/train.csv', index_col=0)\n",
    "raw_test_df: pd.DataFrame = pd.read_csv('data/test.csv', index_col=0)\n",
    "y_train: pd.Series = raw_train_df['Survived']\n",
    "\n",
    "preprocesser = Preprocess(raw_train_df, StandardScaler())\n",
    "x_train: np.ndarray = preprocesser.transform(raw_train_df)\n",
    "x_test: np.ndarray = preprocesser.transform(raw_test_df)\n",
    "\n",
    "mlp_params = [{'hidden_layer_sizes': [\n",
    "    (15,), (20,), (30,), (40,), (50,),\n",
    "  ]}]  \n",
    "knn_params = [{'n_neighbors': [5, 10, 15, 20, 25]}]\n",
    "rf_params = [{'n_estimators': [50, 100, 200, 500, 1000]}]\n",
    "    \n",
    "mlp = MLP(search_params=True, params=mlp_params)\n",
    "knn = KNN(search_params=True, params=knn_params)\n",
    "rf = RF(search_params=True, params=rf_params)\n",
    "\n",
    "mlp_score = mlp.train(x_train, y_train)\n",
    "knn_score = knn.train(x_train, y_train)\n",
    "rf_score = rf.train(x_train, y_train)\n",
    "\n",
    "print(mlp_score, knn_score, rf_score)"
   ]
  },
  {
   "cell_type": "code",
   "execution_count": null,
   "id": "ed6563ae",
   "metadata": {},
   "outputs": [],
   "source": [
    "predictions: pd.DataFrame = pd.DataFrame({\n",
    "    'mlp': mlp.predict(x_test),\n",
    "    'knn': knn.predict(x_test),\n",
    "    'rf': rf.predict(x_test),\n",
    "})\n",
    "\n",
    "predictions['PassengerId'] = raw_test_df.index\n",
    "predictions['Survived'] = predictions.mode(axis=1)\n",
    "predictions.drop(['mlp', 'knn', 'rf'], axis=1, inplace=True)\n",
    "predictions.to_csv('data/output.csv', index=False)"
   ]
  }
 ],
 "metadata": {
  "jupytext": {
   "formats": "auto:percent,ipynb"
  },
  "kernelspec": {
   "display_name": "Python 3 (ipykernel)",
   "language": "python",
   "name": "python3"
  },
  "language_info": {
   "codemirror_mode": {
    "name": "ipython",
    "version": 3
   },
   "file_extension": ".py",
   "mimetype": "text/x-python",
   "name": "python",
   "nbconvert_exporter": "python",
   "pygments_lexer": "ipython3",
   "version": "3.8.10"
  }
 },
 "nbformat": 4,
 "nbformat_minor": 5
}
