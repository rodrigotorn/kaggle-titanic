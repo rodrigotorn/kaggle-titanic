{
 "cells": [
  {
   "cell_type": "code",
   "execution_count": 1,
   "id": "73e77858",
   "metadata": {},
   "outputs": [],
   "source": [
    "%load_ext autoreload\n",
    "%autoreload 1"
   ]
  },
  {
   "cell_type": "code",
   "execution_count": 2,
   "id": "870bf68e",
   "metadata": {},
   "outputs": [],
   "source": [
    "import pandas as pd\n",
    "import numpy as np\n",
    "\n",
    "from sklearn.preprocessing import StandardScaler\n",
    "from src.logger import get_logger\n",
    "from src.preprocess import Preprocess\n",
    "\n",
    "from src.models.rf import RF\n",
    "from src.models.knn import KNN\n",
    "from src.models.svc import SVC\n",
    "from src.models.adaboost import Adaboost\n",
    "from src.models.mlp import MLP\n",
    "\n",
    "import logging\n",
    "logger = get_logger('src', logging.INFO)\n",
    "\n",
    "import warnings\n",
    "warnings.filterwarnings('ignore')"
   ]
  },
  {
   "cell_type": "code",
   "execution_count": 3,
   "id": "2edb77bb",
   "metadata": {
    "tags": []
   },
   "outputs": [
    {
     "name": "stderr",
     "output_type": "stream",
     "text": [
      "2022-07-10 22:27:42,269 - INFO - Reading train data\n",
      "2022-07-10 22:27:42,291 - INFO - Reading test data\n",
      "2022-07-10 22:27:42,293 - INFO - Preprocessing data\n",
      "2022-07-10 22:27:42,295 - INFO - Selecting only the desired columns\n",
      "2022-07-10 22:27:42,296 - INFO - Filling gaps from Age and Embarked columns\n",
      "2022-07-10 22:27:42,299 - INFO - Applying one-hot encoding to categorical columns\n",
      "2022-07-10 22:27:42,304 - INFO - Dropping low variance columns\n",
      "2022-07-10 22:27:42,305 - INFO - Filling gaps from Age and Embarked columns\n",
      "2022-07-10 22:27:42,307 - INFO - Applying one-hot encoding to categorical columns\n",
      "2022-07-10 22:27:42,311 - INFO - Dropping low variance columns\n",
      "2022-07-10 22:27:42,313 - INFO - Scaling the data\n"
     ]
    }
   ],
   "source": [
    "logger.info('Reading train data')\n",
    "raw_train_df: pd.DataFrame = pd.read_csv('data/train.csv', index_col=0)\n",
    "logger.info('Reading test data')\n",
    "raw_test_df: pd.DataFrame = pd.read_csv('data/test.csv', index_col=0)\n",
    "y_train: pd.Series = raw_train_df['Survived']\n",
    "\n",
    "logger.info('Preprocessing data')\n",
    "x_train, x_test = Preprocess(scaler=StandardScaler()) \\\n",
    "  .apply(raw_train_df, raw_test_df)"
   ]
  },
  {
   "cell_type": "code",
   "execution_count": 4,
   "id": "ed6563ae",
   "metadata": {},
   "outputs": [
    {
     "name": "stderr",
     "output_type": "stream",
     "text": [
      "2022-07-10 22:27:42,321 - INFO - Calculating predictions\n",
      "2022-07-10 22:27:42,322 - INFO - Predicting with Random Forest model\n",
      "2022-07-10 22:27:42,395 - INFO - Predicting with KNN model\n",
      "2022-07-10 22:27:42,403 - INFO - Predicting with Adaboost model\n",
      "2022-07-10 22:27:42,407 - INFO - Predicting with MLP model\n",
      "2022-07-10 22:27:42,562 - INFO - Saving predictions to csv\n"
     ]
    }
   ],
   "source": [
    "logger.info('Calculating predictions')\n",
    "predictions: pd.DataFrame = pd.DataFrame({\n",
    "    'rf': RF().predict(x_train, y_train, x_test),\n",
    "    'knn': KNN().predict(x_train, y_train, x_test),\n",
    "    # 'svc': SVC().predict(x_train, y_train, x_test),\n",
    "    'adaboost': Adaboost().predict(x_train, y_train, x_test),\n",
    "    'mlp': MLP().predict(x_train, y_train, x_test),\n",
    "})\n",
    "\n",
    "# workaround for a SVC unknown error\n",
    "predictions['svc'] = pd.read_csv(\n",
    "    'grid_search/suport_vector_machine/svc_predictions.csv',\n",
    ")\n",
    "\n",
    "predictions['PassengerId'] = raw_test_df.index\n",
    "predictions['Survived'] = predictions.mode(axis=1)\n",
    "predictions = predictions[['PassengerId', 'Survived']]\n",
    "\n",
    "logger.info('Saving predictions to csv')\n",
    "predictions.to_csv('data/output.csv', index=False)"
   ]
  }
 ],
 "metadata": {
  "jupytext": {
   "formats": "py:percent,ipynb"
  },
  "kernelspec": {
   "display_name": "Python 3 (ipykernel)",
   "language": "python",
   "name": "python3"
  },
  "language_info": {
   "codemirror_mode": {
    "name": "ipython",
    "version": 3
   },
   "file_extension": ".py",
   "mimetype": "text/x-python",
   "name": "python",
   "nbconvert_exporter": "python",
   "pygments_lexer": "ipython3",
   "version": "3.8.10"
  }
 },
 "nbformat": 4,
 "nbformat_minor": 5
}
