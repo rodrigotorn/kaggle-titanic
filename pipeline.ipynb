{
 "cells": [
  {
   "cell_type": "code",
   "execution_count": null,
   "id": "73e77858",
   "metadata": {},
   "outputs": [],
   "source": [
    "%load_ext autoreload\n",
    "%autoreload 1"
   ]
  },
  {
   "cell_type": "code",
   "execution_count": null,
   "id": "870bf68e",
   "metadata": {},
   "outputs": [],
   "source": [
    "import pandas as pd\n",
    "import numpy as np\n",
    "\n",
    "from sklearn.preprocessing import StandardScaler\n",
    "from src.preprocess import Preprocess\n",
    "\n",
    "from src.models.rf import RF\n",
    "from src.models.knn import KNN\n",
    "from src.models.svc import SVC\n",
    "from src.models.adaboost import Adaboost\n",
    "from src.models.mlp import MLP\n",
    "\n",
    "import warnings\n",
    "warnings.filterwarnings('ignore')"
   ]
  },
  {
   "cell_type": "code",
   "execution_count": null,
   "id": "2edb77bb",
   "metadata": {
    "tags": []
   },
   "outputs": [],
   "source": [
    "raw_train_df: pd.DataFrame = pd.read_csv('data/train.csv', index_col=0)\n",
    "raw_test_df: pd.DataFrame = pd.read_csv('data/test.csv', index_col=0)\n",
    "y_train: pd.Series = raw_train_df['Survived']\n",
    "\n",
    "x_train, x_test = Preprocess(scaler=StandardScaler()) \\\n",
    "  .apply(raw_train_df, raw_test_df)"
   ]
  },
  {
   "cell_type": "code",
   "execution_count": null,
   "id": "ed6563ae",
   "metadata": {},
   "outputs": [],
   "source": [
    "predictions: pd.DataFrame = pd.DataFrame({\n",
    "    'rf': RF().predict(x_train, y_train, x_test),\n",
    "    'knn': KNN().predict(x_train, y_train, x_test),\n",
    "    # 'svc': SVC().predict(x_train, y_train, x_test),\n",
    "    'adaboost': Adaboost().predict(x_train, y_train, x_test),\n",
    "    'mlp': MLP().predict(x_train, y_train, x_test),\n",
    "})\n",
    "\n",
    "# workaround for a SVC unknown error\n",
    "predictions['svc'] = pd.read_csv(\n",
    "    'grid_search/suport_vector_machine/svc_predictions.csv',\n",
    ")\n",
    "\n",
    "predictions['PassengerId'] = raw_test_df.index\n",
    "predictions['Survived'] = predictions.mode(axis=1)\n",
    "predictions = predictions[['PassengerId', 'Survived']]\n",
    "predictions.to_csv('data/output.csv', index=False)"
   ]
  }
 ],
 "metadata": {
  "jupytext": {
   "formats": "py:percent,ipynb"
  },
  "kernelspec": {
   "display_name": "Python 3 (ipykernel)",
   "language": "python",
   "name": "python3"
  },
  "language_info": {
   "codemirror_mode": {
    "name": "ipython",
    "version": 3
   },
   "file_extension": ".py",
   "mimetype": "text/x-python",
   "name": "python",
   "nbconvert_exporter": "python",
   "pygments_lexer": "ipython3",
   "version": "3.8.10"
  }
 },
 "nbformat": 4,
 "nbformat_minor": 5
}
