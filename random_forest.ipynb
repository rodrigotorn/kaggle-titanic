{
 "cells": [
  {
   "cell_type": "code",
   "execution_count": null,
   "id": "b4a6a303",
   "metadata": {},
   "outputs": [],
   "source": [
    "%load_ext autoreload\n",
    "%autoreload 1"
   ]
  },
  {
   "cell_type": "code",
   "execution_count": null,
   "id": "4c1a463c",
   "metadata": {},
   "outputs": [],
   "source": [
    "import pandas as pd\n",
    "import numpy as np\n",
    "import matplotlib.pyplot as plt\n",
    "from sklearn.model_selection import GridSearchCV\n",
    "from sklearn.ensemble import RandomForestClassifier\n",
    "from joblib import dump, load"
   ]
  },
  {
   "cell_type": "code",
   "execution_count": null,
   "id": "7bb8c779",
   "metadata": {},
   "outputs": [],
   "source": [
    "def clean(df: pd.DataFrame) -> pd.DataFrame:\n",
    "\n",
    "    df = df[['Pclass', 'Sex', 'Age', 'SibSp', 'Parch', 'Fare']]\n",
    "    df = df.apply(_fill_nan, axis=0)\n",
    "\n",
    "    pclass_dummy = pd.get_dummies(df['Pclass'])\n",
    "    pclass_dummy.rename(\n",
    "      columns={1:'Pclass1', 2:'Pclass2', 3:'Pclass3'},\n",
    "      inplace=True\n",
    "    )\n",
    "    df = pd.concat([df, pclass_dummy], axis=1)\n",
    "    df.drop('Pclass', axis=1, inplace=True)\n",
    "\n",
    "    sex_dummy = pd.get_dummies(df['Sex'])\n",
    "    df = pd.concat([df, sex_dummy], axis=1)\n",
    "    df.drop('Sex', axis=1, inplace=True)\n",
    "    return df\n",
    "\n",
    "def _fill_nan(series: pd.Series) -> pd.Series:\n",
    "  if series.dtype is np.dtype(object):\n",
    "    return series.fillna(series.mode())\n",
    "  else:\n",
    "    return series.fillna(series.mean())"
   ]
  },
  {
   "cell_type": "code",
   "execution_count": null,
   "id": "9e173edd",
   "metadata": {
    "tags": []
   },
   "outputs": [],
   "source": [
    "x_train: pd.DataFrame = pd.read_csv('data/train.csv', index_col=0)\n",
    "x_test: pd.DataFrame = pd.read_csv('data/test.csv', index_col=0)\n",
    "y_train: pd.Series = x_train['Survived']\n",
    "\n",
    "x_train = clean(x_train)\n",
    "\n",
    "params = {\n",
    "    'n_estimators': [10*i for i in range(1, 501)],\n",
    "    'max_depth': [2*i for i in range(1, 51)],\n",
    "    'criterion': ('gini', 'entropy'),\n",
    "}\n",
    "\n",
    "base_rf = RandomForestClassifier(random_state=3)\n",
    "rf = GridSearchCV(\n",
    "    base_rf,\n",
    "    params,\n",
    "    scoring='balanced_accuracy',\n",
    "    n_jobs=-1,\n",
    "    cv=5,\n",
    "    return_train_score=True,\n",
    ")\n",
    "rf.fit(x_train, y_train)\n",
    "\n",
    "results = pd.DataFrame(rf.cv_results_)\n",
    "results = results[['param_criterion', 'param_n_estimators', 'param_max_depth',\n",
    "    'mean_test_score', 'rank_test_score', 'mean_train_score']]\n",
    "results.to_csv('rf_results.csv', index=False)"
   ]
  },
  {
   "cell_type": "code",
   "execution_count": null,
   "id": "a7ba090f",
   "metadata": {},
   "outputs": [],
   "source": [
    "best = results[results['rank_test_score'] == 1]\n",
    "max_depth = results[results['param_n_estimators'] == best['param_n_estimators']]\n",
    "plt.plot(max_depth['param_max_depth'], max_depth['mean_test_score'], label='test')\n",
    "plt.plot(max_depth['param_max_depth'], max_depth['mean_train_score'], label='train')\n",
    "\n",
    "plt.xlabel('Max Depth')\n",
    "plt.ylabel('Balanced Accuracy')\n",
    "plt.title('Max Depth Overfitt Analysis')\n",
    "plt.legend()\n",
    "plt.show()"
   ]
  },
  {
   "cell_type": "code",
   "execution_count": null,
   "id": "6f2a8b75",
   "metadata": {},
   "outputs": [],
   "source": [
    "estimators = results[results['param_max_depth'] == best['param_max_depth']]\n",
    "plt.plot(estimators['param_n_estimators'], estimators['mean_test_score'], label='test')\n",
    "plt.plot(estimators['param_n_estimators'], estimators['mean_train_score'], label='train')\n",
    "\n",
    "plt.xlabel('Estimators')\n",
    "plt.ylabel('Balanced Accuracy')\n",
    "plt.title('Estimators Overfitt Analysis')\n",
    "plt.legend()\n",
    "plt.show()"
   ]
  },
  {
   "cell_type": "code",
   "execution_count": null,
   "id": "f12b4f90",
   "metadata": {},
   "outputs": [],
   "source": [
    "dump(rf, 'rfmodel.joblib')\n",
    "\n",
    "predictions = pd.DataFrame()\n",
    "predictions['Survived'] = final_rf.predict(x_test)\n",
    "predictions['PassengerId'] = x_test.index\n",
    "predictions.to_csv('data/rf_output.csv', index=False)"
   ]
  }
 ],
 "metadata": {
  "jupytext": {
   "text_representation": {
    "extension": ".py",
    "format_name": "percent",
    "format_version": "1.3",
    "jupytext_version": "1.13.5"
   }
  },
  "kernelspec": {
   "display_name": "Python 3 (ipykernel)",
   "language": "python",
   "name": "python3"
  },
  "language_info": {
   "codemirror_mode": {
    "name": "ipython",
    "version": 3
   },
   "file_extension": ".py",
   "mimetype": "text/x-python",
   "name": "python",
   "nbconvert_exporter": "python",
   "pygments_lexer": "ipython3",
   "version": "3.8.10"
  }
 },
 "nbformat": 4,
 "nbformat_minor": 5
}
