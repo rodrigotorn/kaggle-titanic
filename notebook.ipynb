{
 "cells": [
  {
   "cell_type": "code",
   "execution_count": null,
   "id": "150319f7-a368-4966-83a2-336990692ade",
   "metadata": {},
   "outputs": [],
   "source": [
    "import numpy as np\n",
    "import matplotlib.pyplot as plt\n",
    "import seaborn as sns\n",
    "from pandas import read_csv, DataFrame\n",
    "from sklearn.preprocessing import StandardScaler\n",
    "from src.preprocess import Preprocess\n",
    "from src.models.mlp import MLP"
   ]
  },
  {
   "cell_type": "markdown",
   "id": "26f952da-2c36-494e-b163-5c8c0e39d259",
   "metadata": {
    "tags": []
   },
   "source": [
    "## Problem 2 - I2A2\n",
    "\n",
    "This project's goal is to apply CRISP-SD methodology to a well known dataset, the Titanic Survival dataset. Accordingly to CRISP-DS, the solution is divided in 5 steps, as no deployment is neeeded for this task. The steps are listed bellow as notebook sections.\n",
    "\n",
    "1. [Business Understanding](problem2.ipynb#1.-Business-Understanding)\n",
    "2. [Data Understanding](problem2.ipynb#2.-Data-Understanding)\n",
    "\n",
    "    2.1 [Data Dictionary](problem2.ipynb#Data-Dictionary)\n",
    "    \n",
    "    2.2 [Exploratory Data Analysis](problem2.ipynb#Exploratory-Data-Analysis)\n",
    "3. [Data Preparation](problem2.ipynb#3.-Data-Preparation)\n",
    "4. [Modeling](problem2.ipynb#4.-Modeling)\n",
    "5. [Evaluation](problem2.ipynb#5.-Evaluation)\n",
    "\n",
    "[References](problem2.ipynb#References)"
   ]
  },
  {
   "cell_type": "markdown",
   "id": "c798d3bf-b843-43e9-8a04-12582c8b7eff",
   "metadata": {},
   "source": [
    "### 1. Business Understanding"
   ]
  },
  {
   "cell_type": "markdown",
   "id": "cce48fc7-5f5d-435a-b09c-f36d7fb57831",
   "metadata": {},
   "source": [
    "Titanic was a luxury passenger liner that sank on April 14–15, 1912, during its maiden voyage, en route to New York City from Southampton, England, killing about 1,500 passengers and ship personnel. One of the most famous tragedies in modern history, it inspired numerous stories, several films, and a musical and has been the subject of much scholarship and scientific speculation.\n",
    "\n",
    "This project aims to predict whether a passenger survived or not based on the available data."
   ]
  },
  {
   "cell_type": "markdown",
   "id": "69eca213-4735-4040-b503-1f181fe3174d",
   "metadata": {},
   "source": [
    "### 2. Data Understanding"
   ]
  },
  {
   "cell_type": "markdown",
   "id": "6f2e617c-3c23-4900-9620-cd0560d954b3",
   "metadata": {},
   "source": [
    "This step is where the data is read and we can take a first look on it's properties, aiming for a better understanding about the information provided.\n",
    "\n",
    "A sample from the training dataset is shown bellow."
   ]
  },
  {
   "cell_type": "code",
   "execution_count": null,
   "id": "0fff2bc1-dadf-4e67-92fc-16f7a3d776dc",
   "metadata": {},
   "outputs": [],
   "source": [
    "raw_train_df = read_csv('data/train.csv', index_col=0)\n",
    "raw_test_df = read_csv('data/test.csv', index_col=0)\n",
    "y_train = raw_train_df['Survived']"
   ]
  },
  {
   "cell_type": "code",
   "execution_count": null,
   "id": "e076b24d-eec7-4621-8cd9-e7b87813775a",
   "metadata": {},
   "outputs": [],
   "source": [
    "print(f'The shape from the datasets are: train: {raw_train_df.shape}, test: {raw_test_df.shape}')"
   ]
  },
  {
   "cell_type": "markdown",
   "id": "01c044e9-7281-4baa-876a-6640cdfddb04",
   "metadata": {
    "tags": []
   },
   "source": [
    "The test dataset has one less column than the train because the 'survided' column is not provided as it has to be predicted.\n",
    "\n",
    "### Data Dictionary\n",
    "\n",
    "Variable|Definition|Key\n",
    "--------|----------|---\n",
    "survival|Survival|0 = No, 1 = Yes\n",
    "pclass|Ticket class|1 = 1st, 2 = 2nd, 3 = 3rd\n",
    "sex|Sex|\n",
    "Age|Age in years|\n",
    "sibsp|# of siblings / spouses aboard the Titanic|\n",
    "parch|# of parents / children aboard the Titanic|\n",
    "ticket|Ticket number|\n",
    "fare|Passenger fare|\t\n",
    "cabin|Cabin number|\n",
    "embarked|Port of Embarkation|C = Cherbourg, Q = Queenstown, S = Southampton\n",
    "\n",
    "Variable Notes\n",
    "\n",
    "pclass: A proxy for socio-economic status (SES)\n",
    "1st = Upper\n",
    "2nd = Middle\n",
    "3rd = Lower\n",
    "\n",
    "age: Age is fractional if less than 1. If the age is estimated, is it in the form of xx.5\n",
    "\n",
    "sibsp: The dataset defines family relations in this way...\n",
    "Sibling = brother, sister, stepbrother, stepsister\n",
    "Spouse = husband, wife (mistresses and fiancés were ignored)\n",
    "\n",
    "parch: The dataset defines family relations in this way...\n",
    "Parent = mother, father\n",
    "Child = daughter, son, stepdaughter, stepson\n",
    "Some children travelled only with a nanny, therefore parch=0 for them."
   ]
  },
  {
   "cell_type": "markdown",
   "id": "f8183c8c-79f0-4fb8-86c1-7494178ee5cb",
   "metadata": {},
   "source": [
    "#### Exploratory Data Analysis\n",
    "\n",
    "From printing the types for each column we can see that some columns, like 'pclass' and 'survived', that should be interpreted as categorical are interpreted as numeric.\n",
    "\n",
    "The methods `describe()` and `hist()` are also used to visualize how the features are deviation."
   ]
  },
  {
   "cell_type": "code",
   "execution_count": null,
   "id": "f9fb551a-7241-4af8-8bca-e4694ec20384",
   "metadata": {},
   "outputs": [],
   "source": [
    "raw_train_df.dtypes"
   ]
  },
  {
   "cell_type": "code",
   "execution_count": null,
   "id": "060e39fe-3ce0-4aaa-afdd-68916fe62410",
   "metadata": {},
   "outputs": [],
   "source": [
    "raw_train_df.describe(include='all')"
   ]
  },
  {
   "cell_type": "code",
   "execution_count": null,
   "id": "0031411b-cb58-4d4e-979f-1fc2bacbeba7",
   "metadata": {},
   "outputs": [],
   "source": [
    "hist = raw_train_df.hist(figsize=(12,8))\n",
    "hist"
   ]
  },
  {
   "cell_type": "code",
   "execution_count": null,
   "id": "a35ce1fe-2b8b-4473-9ed9-e3ba4da776d3",
   "metadata": {},
   "outputs": [],
   "source": [
    "fig, ax = plt.subplots(figsize=(12,8))\n",
    "sns.heatmap(raw_train_df.corr())"
   ]
  },
  {
   "cell_type": "markdown",
   "id": "7f293126-344f-403d-a3b7-c994d2c582b2",
   "metadata": {
    "tags": []
   },
   "source": [
    "### 3. Data Preparation"
   ]
  },
  {
   "cell_type": "markdown",
   "id": "57ee0f6d-2a5b-4e98-b09a-f13b8096c381",
   "metadata": {},
   "source": [
    "From Business Understanding, it can be taken into account that some features have more probability to be significative to the prediction than others. E.g, `age` is more relevant for survival odds than `name`. So, as a first iteration, some features are going to be dropped.\n",
    "\n",
    "The resulting features that have null rows are filled with the mean value."
   ]
  },
  {
   "cell_type": "code",
   "execution_count": null,
   "id": "50e6ac85-43b9-4801-9ac4-ce2909edda53",
   "metadata": {},
   "outputs": [],
   "source": [
    "preprocesser = Preprocess(raw_train_df, StandardScaler())\n",
    "X_train = preprocesser.transform(raw_train_df)\n",
    "X_test = preprocesser.transform(raw_test_df)"
   ]
  },
  {
   "cell_type": "markdown",
   "id": "d0c18035-2817-41d0-89ec-ae30420e088d",
   "metadata": {},
   "source": [
    "### 4. Modeling"
   ]
  },
  {
   "cell_type": "markdown",
   "id": "7f2c10c6-32d6-4148-a6eb-f58c579721b0",
   "metadata": {},
   "source": [
    "A simple MLP model was chosen and the predictions were genetated."
   ]
  },
  {
   "cell_type": "code",
   "execution_count": null,
   "id": "776230de-6229-4380-8bd7-04bd2f0e6eb8",
   "metadata": {},
   "outputs": [],
   "source": [
    "mlp = MLP()\n",
    "scores = mlp.train(X_train, y_train)\n",
    "scores\n",
    "\n",
    "y_pred = mlp.predict(X_test)\n",
    "\n",
    "predictions: DataFrame = DataFrame()\n",
    "predictions['PassengerId'] = raw_test_df.index\n",
    "predictions['Survived'] = y_pred\n",
    "predictions"
   ]
  },
  {
   "cell_type": "markdown",
   "id": "edb7fdcf-f9f2-4fc9-844b-33359651f73c",
   "metadata": {},
   "source": [
    "### 5. Evaluation"
   ]
  },
  {
   "cell_type": "markdown",
   "id": "0966e673-cf10-451b-a2dc-f3ad140acea7",
   "metadata": {},
   "source": [
    "Since no test results were provided, the predictions were tested using the Kaggle official website for this challenge. \n",
    "\n",
    "The simple model obtained a score of 0.74.\n",
    "\n",
    "![Kaggle Results](kaggle_results.png)"
   ]
  },
  {
   "cell_type": "markdown",
   "id": "2317a244-42c8-4fa0-a0d4-81767dd9523f",
   "metadata": {},
   "source": [
    "### References\n",
    "\n",
    "1. Encyclopædia Britannica, inc. (n.d.). Titanic. Encyclopædia Britannica. Retrieved December 25, 2021, from https://www.britannica.com/topic/Titanic.\n",
    "\n",
    "2. Titanic - machine learning from disaster. Kaggle. (n.d.). Retrieved December 25, 2021, from https://www.kaggle.com/c/titanic/data "
   ]
  }
 ],
 "metadata": {
  "kernelspec": {
   "display_name": "Python 3 (ipykernel)",
   "language": "python",
   "name": "python3"
  },
  "language_info": {
   "codemirror_mode": {
    "name": "ipython",
    "version": 3
   },
   "file_extension": ".py",
   "mimetype": "text/x-python",
   "name": "python",
   "nbconvert_exporter": "python",
   "pygments_lexer": "ipython3",
   "version": "3.8.10"
  }
 },
 "nbformat": 4,
 "nbformat_minor": 5
}
