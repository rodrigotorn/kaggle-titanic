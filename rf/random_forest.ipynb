{
  "cells": [
    {
      "cell_type": "code",
      "execution_count": null,
      "id": "4c1a463c",
      "metadata": {
        "id": "4c1a463c"
      },
      "outputs": [],
      "source": [
        "import pandas as pd\n",
        "import numpy as np\n",
        "import matplotlib.pyplot as plt\n",
        "from sklearn.model_selection import GridSearchCV\n",
        "from sklearn.ensemble import RandomForestClassifier\n",
        "from joblib import dump, load\n",
        "from google.colab import files"
      ]
    },
    {
      "cell_type": "code",
      "execution_count": null,
      "id": "7bb8c779",
      "metadata": {
        "id": "7bb8c779"
      },
      "outputs": [],
      "source": [
        "def clean(df: pd.DataFrame) -> pd.DataFrame:\n",
        "\n",
        "    df = df[['Pclass', 'Sex', 'Age', 'SibSp', 'Parch', 'Fare']]\n",
        "    df = df.apply(_fill_nan, axis=0)\n",
        "\n",
        "    pclass_dummy = pd.get_dummies(df['Pclass'])\n",
        "    pclass_dummy.rename(\n",
        "      columns={1:'Pclass1', 2:'Pclass2', 3:'Pclass3'},\n",
        "      inplace=True\n",
        "    )\n",
        "    df = pd.concat([df, pclass_dummy], axis=1)\n",
        "    df.drop('Pclass', axis=1, inplace=True)\n",
        "\n",
        "    sex_dummy = pd.get_dummies(df['Sex'])\n",
        "    df = pd.concat([df, sex_dummy], axis=1)\n",
        "    df.drop('Sex', axis=1, inplace=True)\n",
        "    return df\n",
        "\n",
        "def _fill_nan(series: pd.Series) -> pd.Series:\n",
        "  if series.dtype is np.dtype(object):\n",
        "    return series.fillna(series.mode())\n",
        "  else:\n",
        "    return series.fillna(series.mean())"
      ]
    },
    {
      "cell_type": "code",
      "execution_count": null,
      "id": "9e173edd",
      "metadata": {
        "tags": [],
        "id": "9e173edd",
        "outputId": "4ce65b57-f2d3-4e04-d4b4-4548967f5dda",
        "colab": {
          "base_uri": "https://localhost:8080/",
          "height": 17
        }
      },
      "outputs": [
        {
          "output_type": "display_data",
          "data": {
            "application/javascript": [
              "\n",
              "    async function download(id, filename, size) {\n",
              "      if (!google.colab.kernel.accessAllowed) {\n",
              "        return;\n",
              "      }\n",
              "      const div = document.createElement('div');\n",
              "      const label = document.createElement('label');\n",
              "      label.textContent = `Downloading \"${filename}\": `;\n",
              "      div.appendChild(label);\n",
              "      const progress = document.createElement('progress');\n",
              "      progress.max = size;\n",
              "      div.appendChild(progress);\n",
              "      document.body.appendChild(div);\n",
              "\n",
              "      const buffers = [];\n",
              "      let downloaded = 0;\n",
              "\n",
              "      const channel = await google.colab.kernel.comms.open(id);\n",
              "      // Send a message to notify the kernel that we're ready.\n",
              "      channel.send({})\n",
              "\n",
              "      for await (const message of channel.messages) {\n",
              "        // Send a message to notify the kernel that we're ready.\n",
              "        channel.send({})\n",
              "        if (message.buffers) {\n",
              "          for (const buffer of message.buffers) {\n",
              "            buffers.push(buffer);\n",
              "            downloaded += buffer.byteLength;\n",
              "            progress.value = downloaded;\n",
              "          }\n",
              "        }\n",
              "      }\n",
              "      const blob = new Blob(buffers, {type: 'application/binary'});\n",
              "      const a = document.createElement('a');\n",
              "      a.href = window.URL.createObjectURL(blob);\n",
              "      a.download = filename;\n",
              "      div.appendChild(a);\n",
              "      a.click();\n",
              "      div.remove();\n",
              "    }\n",
              "  "
            ],
            "text/plain": [
              "<IPython.core.display.Javascript object>"
            ]
          },
          "metadata": {}
        },
        {
          "output_type": "display_data",
          "data": {
            "application/javascript": [
              "download(\"download_ef4f8110-f4a1-433b-8674-617ac424dca3\", \"rf_results.csv\", 146953)"
            ],
            "text/plain": [
              "<IPython.core.display.Javascript object>"
            ]
          },
          "metadata": {}
        }
      ],
      "source": [
        "x_train: pd.DataFrame = pd.read_csv('train.csv', index_col=0)\n",
        "x_test: pd.DataFrame = pd.read_csv('test.csv', index_col=0)\n",
        "y_train: pd.Series = x_train['Survived']\n",
        "\n",
        "x_train = clean(x_train)\n",
        "x_test = clean(x_test)\n",
        "\n",
        "params = {\n",
        "    'n_estimators': [i for i in range(1, 502, 10)],\n",
        "    'max_depth': [i for i in range(1, 52, 2)],\n",
        "    'criterion': ('gini', 'entropy'),\n",
        "}\n",
        "\n",
        "base_rf = RandomForestClassifier(random_state=3)\n",
        "rf = GridSearchCV(\n",
        "    base_rf,\n",
        "    params,\n",
        "    scoring='balanced_accuracy',\n",
        "    n_jobs=-1,\n",
        "    cv=5,\n",
        "    return_train_score=True,\n",
        ")\n",
        "rf.fit(x_train, y_train)\n",
        "\n",
        "results = pd.DataFrame(rf.cv_results_)\n",
        "results = results[['param_criterion', 'param_n_estimators', 'param_max_depth',\n",
        "    'mean_test_score', 'rank_test_score', 'mean_train_score']]\n",
        "results.to_csv('rf_results.csv', index=False)\n",
        "files.download('rf_results.csv')"
      ]
    },
    {
      "cell_type": "code",
      "execution_count": null,
      "id": "a7ba090f",
      "metadata": {
        "id": "a7ba090f",
        "outputId": "98022475-433a-4e19-9759-06c8c89cef22",
        "colab": {
          "base_uri": "https://localhost:8080/",
          "height": 295
        }
      },
      "outputs": [
        {
          "output_type": "display_data",
          "data": {
            "application/javascript": [
              "\n",
              "    async function download(id, filename, size) {\n",
              "      if (!google.colab.kernel.accessAllowed) {\n",
              "        return;\n",
              "      }\n",
              "      const div = document.createElement('div');\n",
              "      const label = document.createElement('label');\n",
              "      label.textContent = `Downloading \"${filename}\": `;\n",
              "      div.appendChild(label);\n",
              "      const progress = document.createElement('progress');\n",
              "      progress.max = size;\n",
              "      div.appendChild(progress);\n",
              "      document.body.appendChild(div);\n",
              "\n",
              "      const buffers = [];\n",
              "      let downloaded = 0;\n",
              "\n",
              "      const channel = await google.colab.kernel.comms.open(id);\n",
              "      // Send a message to notify the kernel that we're ready.\n",
              "      channel.send({})\n",
              "\n",
              "      for await (const message of channel.messages) {\n",
              "        // Send a message to notify the kernel that we're ready.\n",
              "        channel.send({})\n",
              "        if (message.buffers) {\n",
              "          for (const buffer of message.buffers) {\n",
              "            buffers.push(buffer);\n",
              "            downloaded += buffer.byteLength;\n",
              "            progress.value = downloaded;\n",
              "          }\n",
              "        }\n",
              "      }\n",
              "      const blob = new Blob(buffers, {type: 'application/binary'});\n",
              "      const a = document.createElement('a');\n",
              "      a.href = window.URL.createObjectURL(blob);\n",
              "      a.download = filename;\n",
              "      div.appendChild(a);\n",
              "      a.click();\n",
              "      div.remove();\n",
              "    }\n",
              "  "
            ],
            "text/plain": [
              "<IPython.core.display.Javascript object>"
            ]
          },
          "metadata": {}
        },
        {
          "output_type": "display_data",
          "data": {
            "application/javascript": [
              "download(\"download_29f7bb53-a4a8-4d5d-91a4-0b17f0df8c8a\", \"depth.svg\", 32403)"
            ],
            "text/plain": [
              "<IPython.core.display.Javascript object>"
            ]
          },
          "metadata": {}
        },
        {
          "output_type": "display_data",
          "data": {
            "image/png": "[encoded data removed]",
            "text/plain": [
              "<Figure size 432x288 with 1 Axes>"
            ]
          },
          "metadata": {
            "needs_background": "light"
          }
        }
      ],
      "source": [
        "best = results[results['rank_test_score'] == 1]\n",
        "max_depth = results[results['param_n_estimators'] == best['param_n_estimators'].values[0]]\n",
        "plt.plot(max_depth['param_max_depth'], max_depth['mean_test_score'], label='test')\n",
        "plt.plot(max_depth['param_max_depth'], max_depth['mean_train_score'], label='train')\n",
        "\n",
        "plt.xlabel('Max Depth')\n",
        "plt.ylabel('Balanced Accuracy')\n",
        "plt.title('Max Depth Overfit Analysis')\n",
        "plt.legend()\n",
        "plt.savefig('depth.svg', format='svg')\n",
        "files.download('depth.svg')"
      ]
    },
    {
      "cell_type": "code",
      "execution_count": null,
      "id": "6f2a8b75",
      "metadata": {
        "id": "6f2a8b75",
        "outputId": "6782b471-a4ac-485d-b3c4-e6b8a5a9a576",
        "colab": {
          "base_uri": "https://localhost:8080/",
          "height": 295
        }
      },
      "outputs": [
        {
          "output_type": "display_data",
          "data": {
            "application/javascript": [
              "\n",
              "    async function download(id, filename, size) {\n",
              "      if (!google.colab.kernel.accessAllowed) {\n",
              "        return;\n",
              "      }\n",
              "      const div = document.createElement('div');\n",
              "      const label = document.createElement('label');\n",
              "      label.textContent = `Downloading \"${filename}\": `;\n",
              "      div.appendChild(label);\n",
              "      const progress = document.createElement('progress');\n",
              "      progress.max = size;\n",
              "      div.appendChild(progress);\n",
              "      document.body.appendChild(div);\n",
              "\n",
              "      const buffers = [];\n",
              "      let downloaded = 0;\n",
              "\n",
              "      const channel = await google.colab.kernel.comms.open(id);\n",
              "      // Send a message to notify the kernel that we're ready.\n",
              "      channel.send({})\n",
              "\n",
              "      for await (const message of channel.messages) {\n",
              "        // Send a message to notify the kernel that we're ready.\n",
              "        channel.send({})\n",
              "        if (message.buffers) {\n",
              "          for (const buffer of message.buffers) {\n",
              "            buffers.push(buffer);\n",
              "            downloaded += buffer.byteLength;\n",
              "            progress.value = downloaded;\n",
              "          }\n",
              "        }\n",
              "      }\n",
              "      const blob = new Blob(buffers, {type: 'application/binary'});\n",
              "      const a = document.createElement('a');\n",
              "      a.href = window.URL.createObjectURL(blob);\n",
              "      a.download = filename;\n",
              "      div.appendChild(a);\n",
              "      a.click();\n",
              "      div.remove();\n",
              "    }\n",
              "  "
            ],
            "text/plain": [
              "<IPython.core.display.Javascript object>"
            ]
          },
          "metadata": {}
        },
        {
          "output_type": "display_data",
          "data": {
            "application/javascript": [
              "download(\"download_d7c03a63-6d7d-4508-bd3c-2d7bc19784be\", \"estimators.svg\", 37466)"
            ],
            "text/plain": [
              "<IPython.core.display.Javascript object>"
            ]
          },
          "metadata": {}
        },
        {
          "output_type": "display_data",
          "data": {
            "image/png": "[encoded data removed]",
            "text/plain": [
              "<Figure size 432x288 with 1 Axes>"
            ]
          },
          "metadata": {
            "needs_background": "light"
          }
        }
      ],
      "source": [
        "estimators = results[results['param_max_depth'] == best['param_max_depth'].values[0]]\n",
        "plt.plot(estimators['param_n_estimators'], estimators['mean_test_score'], label='test')\n",
        "plt.plot(estimators['param_n_estimators'], estimators['mean_train_score'], label='train')\n",
        "\n",
        "plt.xlabel('Estimators')\n",
        "plt.ylabel('Balanced Accuracy')\n",
        "plt.title('Estimators Overfit Analysis')\n",
        "plt.legend()\n",
        "plt.savefig('estimators.svg', format='svg')\n",
        "files.download('estimators.svg')"
      ]
    },
    {
      "cell_type": "code",
      "execution_count": null,
      "id": "f12b4f90",
      "metadata": {
        "id": "f12b4f90",
        "outputId": "133f58b6-5ed1-4544-8ac8-f907d1061d4d",
        "colab": {
          "base_uri": "https://localhost:8080/",
          "height": 17
        }
      },
      "outputs": [
        {
          "output_type": "display_data",
          "data": {
            "application/javascript": [
              "\n",
              "    async function download(id, filename, size) {\n",
              "      if (!google.colab.kernel.accessAllowed) {\n",
              "        return;\n",
              "      }\n",
              "      const div = document.createElement('div');\n",
              "      const label = document.createElement('label');\n",
              "      label.textContent = `Downloading \"${filename}\": `;\n",
              "      div.appendChild(label);\n",
              "      const progress = document.createElement('progress');\n",
              "      progress.max = size;\n",
              "      div.appendChild(progress);\n",
              "      document.body.appendChild(div);\n",
              "\n",
              "      const buffers = [];\n",
              "      let downloaded = 0;\n",
              "\n",
              "      const channel = await google.colab.kernel.comms.open(id);\n",
              "      // Send a message to notify the kernel that we're ready.\n",
              "      channel.send({})\n",
              "\n",
              "      for await (const message of channel.messages) {\n",
              "        // Send a message to notify the kernel that we're ready.\n",
              "        channel.send({})\n",
              "        if (message.buffers) {\n",
              "          for (const buffer of message.buffers) {\n",
              "            buffers.push(buffer);\n",
              "            downloaded += buffer.byteLength;\n",
              "            progress.value = downloaded;\n",
              "          }\n",
              "        }\n",
              "      }\n",
              "      const blob = new Blob(buffers, {type: 'application/binary'});\n",
              "      const a = document.createElement('a');\n",
              "      a.href = window.URL.createObjectURL(blob);\n",
              "      a.download = filename;\n",
              "      div.appendChild(a);\n",
              "      a.click();\n",
              "      div.remove();\n",
              "    }\n",
              "  "
            ],
            "text/plain": [
              "<IPython.core.display.Javascript object>"
            ]
          },
          "metadata": {}
        },
        {
          "output_type": "display_data",
          "data": {
            "application/javascript": [
              "download(\"download_ea68b6f8-60b9-4ba0-874f-e67af4f0641d\", \"rfmodel.joblib\", 2722446)"
            ],
            "text/plain": [
              "<IPython.core.display.Javascript object>"
            ]
          },
          "metadata": {}
        },
        {
          "output_type": "display_data",
          "data": {
            "application/javascript": [
              "\n",
              "    async function download(id, filename, size) {\n",
              "      if (!google.colab.kernel.accessAllowed) {\n",
              "        return;\n",
              "      }\n",
              "      const div = document.createElement('div');\n",
              "      const label = document.createElement('label');\n",
              "      label.textContent = `Downloading \"${filename}\": `;\n",
              "      div.appendChild(label);\n",
              "      const progress = document.createElement('progress');\n",
              "      progress.max = size;\n",
              "      div.appendChild(progress);\n",
              "      document.body.appendChild(div);\n",
              "\n",
              "      const buffers = [];\n",
              "      let downloaded = 0;\n",
              "\n",
              "      const channel = await google.colab.kernel.comms.open(id);\n",
              "      // Send a message to notify the kernel that we're ready.\n",
              "      channel.send({})\n",
              "\n",
              "      for await (const message of channel.messages) {\n",
              "        // Send a message to notify the kernel that we're ready.\n",
              "        channel.send({})\n",
              "        if (message.buffers) {\n",
              "          for (const buffer of message.buffers) {\n",
              "            buffers.push(buffer);\n",
              "            downloaded += buffer.byteLength;\n",
              "            progress.value = downloaded;\n",
              "          }\n",
              "        }\n",
              "      }\n",
              "      const blob = new Blob(buffers, {type: 'application/binary'});\n",
              "      const a = document.createElement('a');\n",
              "      a.href = window.URL.createObjectURL(blob);\n",
              "      a.download = filename;\n",
              "      div.appendChild(a);\n",
              "      a.click();\n",
              "      div.remove();\n",
              "    }\n",
              "  "
            ],
            "text/plain": [
              "<IPython.core.display.Javascript object>"
            ]
          },
          "metadata": {}
        },
        {
          "output_type": "display_data",
          "data": {
            "application/javascript": [
              "download(\"download_7862a203-6599-4619-b80a-fba846b478b2\", \"rf_output.csv\", 2839)"
            ],
            "text/plain": [
              "<IPython.core.display.Javascript object>"
            ]
          },
          "metadata": {}
        }
      ],
      "source": [
        "dump(rf, 'rfmodel.joblib')\n",
        "files.download('rfmodel.joblib')\n",
        "\n",
        "predictions = pd.DataFrame()\n",
        "predictions['Survived'] = rf.predict(x_test)\n",
        "predictions['PassengerId'] = x_test.index\n",
        "predictions.to_csv('rf_output.csv', index=False)\n",
        "files.download('rf_output.csv')"
      ]
    }
  ],
  "metadata": {
    "jupytext": {
      "text_representation": {
        "extension": ".py",
        "format_name": "percent",
        "format_version": "1.3",
        "jupytext_version": "1.13.5"
      }
    },
    "kernelspec": {
      "display_name": "Python 3 (ipykernel)",
      "language": "python",
      "name": "python3"
    },
    "language_info": {
      "codemirror_mode": {
        "name": "ipython",
        "version": 3
      },
      "file_extension": ".py",
      "mimetype": "text/x-python",
      "name": "python",
      "nbconvert_exporter": "python",
      "pygments_lexer": "ipython3",
      "version": "3.8.10"
    },
    "colab": {
      "name": "Copy of random_forest.ipynb",
      "provenance": [],
      "collapsed_sections": []
    }
  },
  "nbformat": 4,
  "nbformat_minor": 5
}