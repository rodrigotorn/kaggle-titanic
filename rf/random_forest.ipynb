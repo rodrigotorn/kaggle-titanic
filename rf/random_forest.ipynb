{
 "cells": [
  {
   "cell_type": "code",
   "execution_count": null,
   "id": "4c1a463c",
   "metadata": {
    "id": "4c1a463c"
   },
   "outputs": [],
   "source": [
    "import pandas as pd\n",
    "import numpy as np\n",
    "import matplotlib.pyplot as plt\n",
    "from sklearn.model_selection import GridSearchCV\n",
    "from sklearn.ensemble import RandomForestClassifier\n",
    "from joblib import dump, load\n",
    "#from google.colab import files"
   ]
  },
  {
   "cell_type": "code",
   "execution_count": null,
   "id": "b99adf1a-ed59-4b0b-8c37-db65167304b7",
   "metadata": {},
   "outputs": [],
   "source": [
    "def clean(raw):\n",
    "    raw.drop(labels=['Name', 'Ticket', 'Cabin'], axis='columns', inplace=True)\n",
    "    \n",
    "    raw['Age'] = raw['Age'].fillna(raw['Age'].mean())\n",
    "    raw['Embarked'] = raw['Embarked'].fillna(raw['Embarked'].mode()[0])\n",
    "    \n",
    "    raw['Fare'] = raw['Fare'].map(lambda i: np.log(i) if i > 0 else 0)\n",
    "    \n",
    "    sex_dummy = pd.get_dummies(raw['Sex'])\n",
    "    raw = pd.concat([raw, sex_dummy], axis=1)\n",
    "    raw.drop('Sex', axis=1, inplace=True)\n",
    "\n",
    "    embarked_dummy = pd.get_dummies(raw['Embarked'], prefix='Embarked')\n",
    "    raw = pd.concat([raw, embarked_dummy], axis=1)\n",
    "    raw.drop('Embarked', axis=1, inplace=True)\n",
    "\n",
    "    pclass_dummy = pd.get_dummies(raw['Pclass'], prefix='Pclass')\n",
    "    raw = pd.concat([raw, pclass_dummy], axis=1)\n",
    "    raw.drop('Pclass', axis=1, inplace=True)\n",
    "    \n",
    "    raw.drop(\n",
    "        labels=['Embarked_Q', 'SibSp', 'Age', 'Parch', 'Pclass_2'],\n",
    "        axis='columns',inplace=True)\n",
    "    \n",
    "    return raw"
   ]
  },
  {
   "cell_type": "code",
   "execution_count": null,
   "id": "9e173edd",
   "metadata": {
    "colab": {
     "base_uri": "https://localhost:8080/",
     "height": 17
    },
    "id": "9e173edd",
    "outputId": "4ce65b57-f2d3-4e04-d4b4-4548967f5dda",
    "tags": []
   },
   "outputs": [],
   "source": [
    "x_train: pd.DataFrame = pd.read_csv('../data/train.csv', index_col=0)\n",
    "x_test: pd.DataFrame = pd.read_csv('../data/test.csv', index_col=0)\n",
    "y_train: pd.Series = x_train['Survived']\n",
    "x_train.drop(labels=['Survived'], axis='columns', inplace=True)\n",
    "\n",
    "x_train = clean(x_train)\n",
    "x_test = clean(x_test)\n",
    "\n",
    "params = {\n",
    "    'max_depth': [i for i in range(1, 10)],\n",
    "}\n",
    "\n",
    "base_rf = RandomForestClassifier(random_state=3)\n",
    "rf = GridSearchCV(\n",
    "    base_rf,\n",
    "    params,\n",
    "    scoring='balanced_accuracy',\n",
    "    n_jobs=-1,\n",
    "    cv=5,\n",
    "    return_train_score=True,\n",
    ")\n",
    "rf.fit(x_train, y_train)\n",
    "\n",
    "results = pd.DataFrame(rf.cv_results_)\n",
    "results = results[['param_max_depth','mean_test_score',\n",
    "                  'rank_test_score', 'mean_train_score']]\n",
    "results.to_csv('rf_results.csv', index=False)\n",
    "#files.download('rf_results.csv')"
   ]
  },
  {
   "cell_type": "code",
   "execution_count": null,
   "id": "a7ba090f",
   "metadata": {
    "colab": {
     "base_uri": "https://localhost:8080/",
     "height": 295
    },
    "id": "a7ba090f",
    "outputId": "98022475-433a-4e19-9759-06c8c89cef22"
   },
   "outputs": [],
   "source": [
    "plt.plot(results['param_max_depth'], results['mean_test_score'], label='test')\n",
    "plt.plot(results['param_max_depth'], results['mean_train_score'], label='train')\n",
    "\n",
    "plt.xlabel('Max Depth')\n",
    "plt.ylabel('Balanced Accuracy')\n",
    "plt.title('Max Depth Overfit Analysis')\n",
    "plt.legend()\n",
    "plt.savefig('depth.svg', format='svg')\n",
    "#files.download('depth.svg')"
   ]
  },
  {
   "cell_type": "code",
   "execution_count": null,
   "id": "d629536b-abd9-4d42-800a-f44a3bddae24",
   "metadata": {},
   "outputs": [],
   "source": [
    "base_rf = RandomForestClassifier(random_state=3, max_depth=2)\n",
    "rf.fit(x_train, y_train)\n",
    "predictions = pd.DataFrame()\n",
    "predictions['Survived'] = rf.predict(x_test)\n",
    "predictions['PassengerId'] = x_test.index\n",
    "predictions.to_csv('rf_output.csv', index=False)\n",
    "# files.download('rf_output.csv')"
   ]
  }
 ],
 "metadata": {
  "colab": {
   "collapsed_sections": [],
   "name": "Copy of random_forest.ipynb",
   "provenance": []
  },
  "kernelspec": {
   "display_name": "Python 3 (ipykernel)",
   "language": "python",
   "name": "python3"
  },
  "language_info": {
   "codemirror_mode": {
    "name": "ipython",
    "version": 3
   },
   "file_extension": ".py",
   "mimetype": "text/x-python",
   "name": "python",
   "nbconvert_exporter": "python",
   "pygments_lexer": "ipython3",
   "version": "3.8.10"
  }
 },
 "nbformat": 4,
 "nbformat_minor": 5
}
