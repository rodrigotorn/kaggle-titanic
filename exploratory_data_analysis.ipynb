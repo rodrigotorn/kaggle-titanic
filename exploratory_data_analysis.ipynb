{
 "cells": [
  {
   "cell_type": "markdown",
   "id": "47d31473-e5bf-488c-bd39-0bd4ef03fa23",
   "metadata": {},
   "source": [
    "This notebooks aims to explore the train dataset. The goal is to check for outliers, understand the distribution for each feature and apply transformations when necessary. At the end of this notebook we expect to obtain the template dataset after preprocessing."
   ]
  },
  {
   "cell_type": "code",
   "execution_count": 1,
   "id": "6843c354-c34a-4e13-89b1-60e964a713f1",
   "metadata": {},
   "outputs": [],
   "source": [
    "import pandas as pd\n",
    "import numpy as np\n",
    "import seaborn as sns\n",
    "import matplotlib.pyplot as plt"
   ]
  },
  {
   "cell_type": "code",
   "execution_count": 2,
   "id": "d420c861-6ea4-46e0-a5b9-bd3d0e9b6525",
   "metadata": {},
   "outputs": [
    {
     "name": "stdout",
     "output_type": "stream",
     "text": [
      "Train dataset shape: (891, 11)\n"
     ]
    },
    {
     "data": {
      "text/html": [
       "<div>\n",
       "<style scoped>\n",
       "    .dataframe tbody tr th:only-of-type {\n",
       "        vertical-align: middle;\n",
       "    }\n",
       "\n",
       "    .dataframe tbody tr th {\n",
       "        vertical-align: top;\n",
       "    }\n",
       "\n",
       "    .dataframe thead th {\n",
       "        text-align: right;\n",
       "    }\n",
       "</style>\n",
       "<table border=\"1\" class=\"dataframe\">\n",
       "  <thead>\n",
       "    <tr style=\"text-align: right;\">\n",
       "      <th></th>\n",
       "      <th>Survived</th>\n",
       "      <th>Pclass</th>\n",
       "      <th>Name</th>\n",
       "      <th>Sex</th>\n",
       "      <th>Age</th>\n",
       "      <th>SibSp</th>\n",
       "      <th>Parch</th>\n",
       "      <th>Ticket</th>\n",
       "      <th>Fare</th>\n",
       "      <th>Cabin</th>\n",
       "      <th>Embarked</th>\n",
       "    </tr>\n",
       "    <tr>\n",
       "      <th>PassengerId</th>\n",
       "      <th></th>\n",
       "      <th></th>\n",
       "      <th></th>\n",
       "      <th></th>\n",
       "      <th></th>\n",
       "      <th></th>\n",
       "      <th></th>\n",
       "      <th></th>\n",
       "      <th></th>\n",
       "      <th></th>\n",
       "      <th></th>\n",
       "    </tr>\n",
       "  </thead>\n",
       "  <tbody>\n",
       "    <tr>\n",
       "      <th>1</th>\n",
       "      <td>0</td>\n",
       "      <td>3</td>\n",
       "      <td>Braund, Mr. Owen Harris</td>\n",
       "      <td>male</td>\n",
       "      <td>22.0</td>\n",
       "      <td>1</td>\n",
       "      <td>0</td>\n",
       "      <td>A/5 21171</td>\n",
       "      <td>7.2500</td>\n",
       "      <td>NaN</td>\n",
       "      <td>S</td>\n",
       "    </tr>\n",
       "    <tr>\n",
       "      <th>2</th>\n",
       "      <td>1</td>\n",
       "      <td>1</td>\n",
       "      <td>Cumings, Mrs. John Bradley (Florence Briggs Th...</td>\n",
       "      <td>female</td>\n",
       "      <td>38.0</td>\n",
       "      <td>1</td>\n",
       "      <td>0</td>\n",
       "      <td>PC 17599</td>\n",
       "      <td>71.2833</td>\n",
       "      <td>C85</td>\n",
       "      <td>C</td>\n",
       "    </tr>\n",
       "    <tr>\n",
       "      <th>3</th>\n",
       "      <td>1</td>\n",
       "      <td>3</td>\n",
       "      <td>Heikkinen, Miss. Laina</td>\n",
       "      <td>female</td>\n",
       "      <td>26.0</td>\n",
       "      <td>0</td>\n",
       "      <td>0</td>\n",
       "      <td>STON/O2. 3101282</td>\n",
       "      <td>7.9250</td>\n",
       "      <td>NaN</td>\n",
       "      <td>S</td>\n",
       "    </tr>\n",
       "    <tr>\n",
       "      <th>4</th>\n",
       "      <td>1</td>\n",
       "      <td>1</td>\n",
       "      <td>Futrelle, Mrs. Jacques Heath (Lily May Peel)</td>\n",
       "      <td>female</td>\n",
       "      <td>35.0</td>\n",
       "      <td>1</td>\n",
       "      <td>0</td>\n",
       "      <td>113803</td>\n",
       "      <td>53.1000</td>\n",
       "      <td>C123</td>\n",
       "      <td>S</td>\n",
       "    </tr>\n",
       "    <tr>\n",
       "      <th>5</th>\n",
       "      <td>0</td>\n",
       "      <td>3</td>\n",
       "      <td>Allen, Mr. William Henry</td>\n",
       "      <td>male</td>\n",
       "      <td>35.0</td>\n",
       "      <td>0</td>\n",
       "      <td>0</td>\n",
       "      <td>373450</td>\n",
       "      <td>8.0500</td>\n",
       "      <td>NaN</td>\n",
       "      <td>S</td>\n",
       "    </tr>\n",
       "  </tbody>\n",
       "</table>\n",
       "</div>"
      ],
      "text/plain": [
       "             Survived  Pclass  \\\n",
       "PassengerId                     \n",
       "1                   0       3   \n",
       "2                   1       1   \n",
       "3                   1       3   \n",
       "4                   1       1   \n",
       "5                   0       3   \n",
       "\n",
       "                                                          Name     Sex   Age  \\\n",
       "PassengerId                                                                    \n",
       "1                                      Braund, Mr. Owen Harris    male  22.0   \n",
       "2            Cumings, Mrs. John Bradley (Florence Briggs Th...  female  38.0   \n",
       "3                                       Heikkinen, Miss. Laina  female  26.0   \n",
       "4                 Futrelle, Mrs. Jacques Heath (Lily May Peel)  female  35.0   \n",
       "5                                     Allen, Mr. William Henry    male  35.0   \n",
       "\n",
       "             SibSp  Parch            Ticket     Fare Cabin Embarked  \n",
       "PassengerId                                                          \n",
       "1                1      0         A/5 21171   7.2500   NaN        S  \n",
       "2                1      0          PC 17599  71.2833   C85        C  \n",
       "3                0      0  STON/O2. 3101282   7.9250   NaN        S  \n",
       "4                1      0            113803  53.1000  C123        S  \n",
       "5                0      0            373450   8.0500   NaN        S  "
      ]
     },
     "execution_count": 2,
     "metadata": {},
     "output_type": "execute_result"
    }
   ],
   "source": [
    "raw: pd.DataFrame = pd.read_csv('data/train.csv', index_col=0)\n",
    "print(f'Train dataset shape: {raw.shape}')\n",
    "raw.head()"
   ]
  },
  {
   "cell_type": "markdown",
   "id": "e5767537-0e8a-4188-a303-c4be1484a669",
   "metadata": {},
   "source": [
    "As a first iteration, we choose to drop the columns Name, Ticket and Cabin, since it would require a lot of preprocessing and we are not certain that these columns are required for a good prediction."
   ]
  },
  {
   "cell_type": "code",
   "execution_count": 3,
   "id": "2d801048-47f3-492f-9788-02433ce98732",
   "metadata": {},
   "outputs": [
    {
     "name": "stdout",
     "output_type": "stream",
     "text": [
      "<class 'pandas.core.frame.DataFrame'>\n",
      "Int64Index: 891 entries, 1 to 891\n",
      "Data columns (total 8 columns):\n",
      " #   Column    Non-Null Count  Dtype  \n",
      "---  ------    --------------  -----  \n",
      " 0   Survived  891 non-null    int64  \n",
      " 1   Pclass    891 non-null    int64  \n",
      " 2   Sex       891 non-null    object \n",
      " 3   Age       714 non-null    float64\n",
      " 4   SibSp     891 non-null    int64  \n",
      " 5   Parch     891 non-null    int64  \n",
      " 6   Fare      891 non-null    float64\n",
      " 7   Embarked  889 non-null    object \n",
      "dtypes: float64(2), int64(4), object(2)\n",
      "memory usage: 62.6+ KB\n"
     ]
    }
   ],
   "source": [
    "raw.drop(labels=['Name', 'Ticket', 'Cabin'], axis='columns', inplace=True)\n",
    "raw.info()"
   ]
  },
  {
   "cell_type": "markdown",
   "id": "946a1457-db72-4ab3-ab9a-d3d67358e1c6",
   "metadata": {},
   "source": [
    "The missing values for Age are going to be considered the mean. For Embarked, the mode."
   ]
  },
  {
   "cell_type": "code",
   "execution_count": 4,
   "id": "a262693f-99c4-4d21-bb0e-1afb9bb8e084",
   "metadata": {},
   "outputs": [],
   "source": [
    "raw['Age'] = raw['Age'].fillna(raw['Age'].mean())\n",
    "raw['Embarked'] = raw['Embarked'].fillna(raw['Embarked'].mode()[0])"
   ]
  },
  {
   "cell_type": "markdown",
   "id": "7b64de15-7073-49c6-bff0-e67fc762a8cb",
   "metadata": {},
   "source": [
    "The histograms for each column are plotted bellow."
   ]
  },
  {
   "cell_type": "code",
   "execution_count": 5,
   "id": "3ba6c8db-822b-40a4-90f4-50ef26699af9",
   "metadata": {
    "tags": []
   },
   "outputs": [
    {
     "data": {
      "image/png": "[encoded data removed]",
      "text/plain": [
       "<Figure size 576x1440 with 8 Axes>"
      ]
     },
     "metadata": {
      "needs_background": "light"
     },
     "output_type": "display_data"
    }
   ],
   "source": [
    "fig, axs = plt.subplots(8, 1, figsize=(8, 20))\n",
    "for col, ax in zip(raw.columns, axs):\n",
    "    ax.hist(raw[col])\n",
    "plt.show()"
   ]
  },
  {
   "cell_type": "markdown",
   "id": "79a8a345-495c-4080-a3c5-533957ad995a",
   "metadata": {},
   "source": [
    "The boxplot indicates that the Fare column has a lot of outlier values. To correct this, the column is log tranformed."
   ]
  },
  {
   "cell_type": "code",
   "execution_count": 6,
   "id": "2d89d4bc-e811-4ccf-81dc-904d771d4ac3",
   "metadata": {},
   "outputs": [
    {
     "data": {
      "text/plain": [
       "<AxesSubplot:>"
      ]
     },
     "execution_count": 6,
     "metadata": {},
     "output_type": "execute_result"
    },
    {
     "data": {
      "image/png": "[encoded data removed]",
      "text/plain": [
       "<Figure size 432x288 with 1 Axes>"
      ]
     },
     "metadata": {
      "needs_background": "light"
     },
     "output_type": "display_data"
    }
   ],
   "source": [
    "raw.boxplot()"
   ]
  },
  {
   "cell_type": "code",
   "execution_count": 7,
   "id": "039fce16-0ba8-4e67-808f-d850d334e997",
   "metadata": {},
   "outputs": [
    {
     "name": "stdout",
     "output_type": "stream",
     "text": [
      "Fare skewness before log: 4.787316519674893\n",
      "Fare skewness after log: 0.44310881405404506\n"
     ]
    }
   ],
   "source": [
    "print(f\"Fare skewness before log: {raw['Fare'].skew()}\")\n",
    "raw['Fare'] = raw['Fare'].map(lambda i: np.log(i) if i > 0 else 0)\n",
    "print(f\"Fare skewness after log: {raw['Fare'].skew()}\")"
   ]
  },
  {
   "cell_type": "markdown",
   "id": "639868b1-a91c-409d-b332-150c878b1f3e",
   "metadata": {},
   "source": [
    "The categorical columns are transformed using one-hot encoding"
   ]
  },
  {
   "cell_type": "code",
   "execution_count": 8,
   "id": "5a6fe75b-e883-4025-8048-e412e0ea13b1",
   "metadata": {},
   "outputs": [],
   "source": [
    "sex_dummy = pd.get_dummies(raw['Sex'])\n",
    "raw = pd.concat([raw, sex_dummy], axis=1)\n",
    "raw.drop('Sex', axis=1, inplace=True)"
   ]
  },
  {
   "cell_type": "code",
   "execution_count": 9,
   "id": "9f30b8d6-29db-4405-82a5-f82debc23568",
   "metadata": {},
   "outputs": [],
   "source": [
    "embarked_dummy = pd.get_dummies(raw['Embarked'], prefix='Embarked')\n",
    "raw = pd.concat([raw, embarked_dummy], axis=1)\n",
    "raw.drop('Embarked', axis=1, inplace=True)"
   ]
  },
  {
   "cell_type": "code",
   "execution_count": 10,
   "id": "f1e44957-d62f-42fb-9e00-7c0ccecfd296",
   "metadata": {},
   "outputs": [],
   "source": [
    "pclass_dummy = pd.get_dummies(raw['Pclass'], prefix='Pclass')\n",
    "raw = pd.concat([raw, pclass_dummy], axis=1)\n",
    "raw.drop('Pclass', axis=1, inplace=True)"
   ]
  },
  {
   "cell_type": "code",
   "execution_count": 11,
   "id": "aaaaed24-bd5e-40ab-8dc1-dd6197bf8b15",
   "metadata": {},
   "outputs": [
    {
     "data": {
      "text/plain": [
       "<AxesSubplot:>"
      ]
     },
     "execution_count": 11,
     "metadata": {},
     "output_type": "execute_result"
    },
    {
     "data": {
      "image/png": "[encoded data removed]",
      "text/plain": [
       "<Figure size 720x576 with 2 Axes>"
      ]
     },
     "metadata": {
      "needs_background": "light"
     },
     "output_type": "display_data"
    }
   ],
   "source": [
    "fig, ax = plt.subplots(figsize=(10, 8))\n",
    "sns.heatmap(raw.corr(), cmap='RdBu')"
   ]
  },
  {
   "cell_type": "code",
   "execution_count": 12,
   "id": "24fc4c22-1059-42ef-bb6c-2299d6244e2d",
   "metadata": {},
   "outputs": [
    {
     "data": {
      "text/plain": [
       "Embarked_Q    0.003650\n",
       "SibSp         0.035322\n",
       "Age           0.069809\n",
       "Parch         0.081629\n",
       "Pclass_2      0.093349\n",
       "Embarked_S    0.149683\n",
       "Embarked_C    0.168240\n",
       "Pclass_1      0.285904\n",
       "Pclass_3      0.322308\n",
       "Fare          0.331805\n",
       "female        0.543351\n",
       "male          0.543351\n",
       "Survived      1.000000\n",
       "Name: Survived, dtype: float64"
      ]
     },
     "execution_count": 12,
     "metadata": {},
     "output_type": "execute_result"
    }
   ],
   "source": [
    "raw.corr()['Survived'].abs().sort_values()"
   ]
  },
  {
   "cell_type": "markdown",
   "id": "3f860c3f-37c2-4313-9752-ace84b52419d",
   "metadata": {},
   "source": [
    "Columns with low correlation are dropped, and we can see the template for the dataset after preprocessing."
   ]
  },
  {
   "cell_type": "code",
   "execution_count": 13,
   "id": "0e37c8c3-8535-4bcd-9e5c-f4ba42e2fa12",
   "metadata": {},
   "outputs": [
    {
     "data": {
      "text/html": [
       "<div>\n",
       "<style scoped>\n",
       "    .dataframe tbody tr th:only-of-type {\n",
       "        vertical-align: middle;\n",
       "    }\n",
       "\n",
       "    .dataframe tbody tr th {\n",
       "        vertical-align: top;\n",
       "    }\n",
       "\n",
       "    .dataframe thead th {\n",
       "        text-align: right;\n",
       "    }\n",
       "</style>\n",
       "<table border=\"1\" class=\"dataframe\">\n",
       "  <thead>\n",
       "    <tr style=\"text-align: right;\">\n",
       "      <th></th>\n",
       "      <th>Survived</th>\n",
       "      <th>Fare</th>\n",
       "      <th>female</th>\n",
       "      <th>male</th>\n",
       "      <th>Embarked_C</th>\n",
       "      <th>Embarked_S</th>\n",
       "      <th>Pclass_1</th>\n",
       "      <th>Pclass_3</th>\n",
       "    </tr>\n",
       "    <tr>\n",
       "      <th>PassengerId</th>\n",
       "      <th></th>\n",
       "      <th></th>\n",
       "      <th></th>\n",
       "      <th></th>\n",
       "      <th></th>\n",
       "      <th></th>\n",
       "      <th></th>\n",
       "      <th></th>\n",
       "    </tr>\n",
       "  </thead>\n",
       "  <tbody>\n",
       "    <tr>\n",
       "      <th>1</th>\n",
       "      <td>0</td>\n",
       "      <td>1.981001</td>\n",
       "      <td>0</td>\n",
       "      <td>1</td>\n",
       "      <td>0</td>\n",
       "      <td>1</td>\n",
       "      <td>0</td>\n",
       "      <td>1</td>\n",
       "    </tr>\n",
       "    <tr>\n",
       "      <th>2</th>\n",
       "      <td>1</td>\n",
       "      <td>4.266662</td>\n",
       "      <td>1</td>\n",
       "      <td>0</td>\n",
       "      <td>1</td>\n",
       "      <td>0</td>\n",
       "      <td>1</td>\n",
       "      <td>0</td>\n",
       "    </tr>\n",
       "    <tr>\n",
       "      <th>3</th>\n",
       "      <td>1</td>\n",
       "      <td>2.070022</td>\n",
       "      <td>1</td>\n",
       "      <td>0</td>\n",
       "      <td>0</td>\n",
       "      <td>1</td>\n",
       "      <td>0</td>\n",
       "      <td>1</td>\n",
       "    </tr>\n",
       "    <tr>\n",
       "      <th>4</th>\n",
       "      <td>1</td>\n",
       "      <td>3.972177</td>\n",
       "      <td>1</td>\n",
       "      <td>0</td>\n",
       "      <td>0</td>\n",
       "      <td>1</td>\n",
       "      <td>1</td>\n",
       "      <td>0</td>\n",
       "    </tr>\n",
       "    <tr>\n",
       "      <th>5</th>\n",
       "      <td>0</td>\n",
       "      <td>2.085672</td>\n",
       "      <td>0</td>\n",
       "      <td>1</td>\n",
       "      <td>0</td>\n",
       "      <td>1</td>\n",
       "      <td>0</td>\n",
       "      <td>1</td>\n",
       "    </tr>\n",
       "    <tr>\n",
       "      <th>...</th>\n",
       "      <td>...</td>\n",
       "      <td>...</td>\n",
       "      <td>...</td>\n",
       "      <td>...</td>\n",
       "      <td>...</td>\n",
       "      <td>...</td>\n",
       "      <td>...</td>\n",
       "      <td>...</td>\n",
       "    </tr>\n",
       "    <tr>\n",
       "      <th>887</th>\n",
       "      <td>0</td>\n",
       "      <td>2.564949</td>\n",
       "      <td>0</td>\n",
       "      <td>1</td>\n",
       "      <td>0</td>\n",
       "      <td>1</td>\n",
       "      <td>0</td>\n",
       "      <td>0</td>\n",
       "    </tr>\n",
       "    <tr>\n",
       "      <th>888</th>\n",
       "      <td>1</td>\n",
       "      <td>3.401197</td>\n",
       "      <td>1</td>\n",
       "      <td>0</td>\n",
       "      <td>0</td>\n",
       "      <td>1</td>\n",
       "      <td>1</td>\n",
       "      <td>0</td>\n",
       "    </tr>\n",
       "    <tr>\n",
       "      <th>889</th>\n",
       "      <td>0</td>\n",
       "      <td>3.154870</td>\n",
       "      <td>1</td>\n",
       "      <td>0</td>\n",
       "      <td>0</td>\n",
       "      <td>1</td>\n",
       "      <td>0</td>\n",
       "      <td>1</td>\n",
       "    </tr>\n",
       "    <tr>\n",
       "      <th>890</th>\n",
       "      <td>1</td>\n",
       "      <td>3.401197</td>\n",
       "      <td>0</td>\n",
       "      <td>1</td>\n",
       "      <td>1</td>\n",
       "      <td>0</td>\n",
       "      <td>1</td>\n",
       "      <td>0</td>\n",
       "    </tr>\n",
       "    <tr>\n",
       "      <th>891</th>\n",
       "      <td>0</td>\n",
       "      <td>2.047693</td>\n",
       "      <td>0</td>\n",
       "      <td>1</td>\n",
       "      <td>0</td>\n",
       "      <td>0</td>\n",
       "      <td>0</td>\n",
       "      <td>1</td>\n",
       "    </tr>\n",
       "  </tbody>\n",
       "</table>\n",
       "<p>891 rows × 8 columns</p>\n",
       "</div>"
      ],
      "text/plain": [
       "             Survived      Fare  female  male  Embarked_C  Embarked_S  \\\n",
       "PassengerId                                                             \n",
       "1                   0  1.981001       0     1           0           1   \n",
       "2                   1  4.266662       1     0           1           0   \n",
       "3                   1  2.070022       1     0           0           1   \n",
       "4                   1  3.972177       1     0           0           1   \n",
       "5                   0  2.085672       0     1           0           1   \n",
       "...               ...       ...     ...   ...         ...         ...   \n",
       "887                 0  2.564949       0     1           0           1   \n",
       "888                 1  3.401197       1     0           0           1   \n",
       "889                 0  3.154870       1     0           0           1   \n",
       "890                 1  3.401197       0     1           1           0   \n",
       "891                 0  2.047693       0     1           0           0   \n",
       "\n",
       "             Pclass_1  Pclass_3  \n",
       "PassengerId                      \n",
       "1                   0         1  \n",
       "2                   1         0  \n",
       "3                   0         1  \n",
       "4                   1         0  \n",
       "5                   0         1  \n",
       "...               ...       ...  \n",
       "887                 0         0  \n",
       "888                 1         0  \n",
       "889                 0         1  \n",
       "890                 1         0  \n",
       "891                 0         1  \n",
       "\n",
       "[891 rows x 8 columns]"
      ]
     },
     "execution_count": 13,
     "metadata": {},
     "output_type": "execute_result"
    }
   ],
   "source": [
    "raw.drop(labels=['Embarked_Q', 'SibSp', 'Age', 'Parch', 'Pclass_2'],\n",
    "         axis='columns',inplace=True)\n",
    "raw"
   ]
  }
 ],
 "metadata": {
  "jupytext": {
   "formats": "ipynb,py:percent"
  },
  "kernelspec": {
   "display_name": "Python 3 (ipykernel)",
   "language": "python",
   "name": "python3"
  },
  "language_info": {
   "codemirror_mode": {
    "name": "ipython",
    "version": 3
   },
   "file_extension": ".py",
   "mimetype": "text/x-python",
   "name": "python",
   "nbconvert_exporter": "python",
   "pygments_lexer": "ipython3",
   "version": "3.8.10"
  }
 },
 "nbformat": 4,
 "nbformat_minor": 5
}
